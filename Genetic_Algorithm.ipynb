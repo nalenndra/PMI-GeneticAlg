{
  "nbformat": 4,
  "nbformat_minor": 0,
  "metadata": {
    "colab": {
      "provenance": [],
      "authorship_tag": "ABX9TyOcl+fDzIup/zH4LwkqdKZu",
      "include_colab_link": true
    },
    "kernelspec": {
      "name": "ir",
      "display_name": "R"
    },
    "language_info": {
      "name": "R"
    }
  },
  "cells": [
    {
      "cell_type": "markdown",
      "metadata": {
        "id": "view-in-github",
        "colab_type": "text"
      },
      "source": [
        "<a href=\"https://colab.research.google.com/github/nalenndra/PMI-GeneticAlg/blob/Project/Genetic_Algorithm.ipynb\" target=\"_parent\"><img src=\"https://colab.research.google.com/assets/colab-badge.svg\" alt=\"Open In Colab\"/></a>"
      ]
    },
    {
      "cell_type": "markdown",
      "source": [
        "# Analisis Clustering dan Optimasi Heuristik dalam penyusunan portofolio saham\n",
        "Eps Genetik Algorithm dan Klastering DBSCAN\n",
        "Mahardi Nalendra Syafa"
      ],
      "metadata": {
        "id": "fvDgULj6sR88"
      }
    },
    {
      "cell_type": "markdown",
      "source": [
        "# Data"
      ],
      "metadata": {
        "id": "0hAfxPZ0tY1d"
      }
    },
    {
      "cell_type": "code",
      "source": [
        "#read csv data\n",
        "data_volatility = read.csv(\"/content/volatility_mean_data.csv\")\n",
        "head(data_volatility)"
      ],
      "metadata": {
        "colab": {
          "base_uri": "https://localhost:8080/",
          "height": 286
        },
        "id": "1gEF_aiDtfsj",
        "outputId": "a486af3d-78af-4a07-d379-8c286c5392a2"
      },
      "execution_count": null,
      "outputs": [
        {
          "output_type": "display_data",
          "data": {
            "text/html": [
              "<table class=\"dataframe\">\n",
              "<caption>A data.frame: 6 × 3</caption>\n",
              "<thead>\n",
              "\t<tr><th></th><th scope=col>X</th><th scope=col>Annual.Volatility</th><th scope=col>Mean.Log.Return</th></tr>\n",
              "\t<tr><th></th><th scope=col>&lt;chr&gt;</th><th scope=col>&lt;dbl&gt;</th><th scope=col>&lt;dbl&gt;</th></tr>\n",
              "</thead>\n",
              "<tbody>\n",
              "\t<tr><th scope=row>1</th><td>AMT </td><td>0.2403568</td><td> 0.0001024872</td></tr>\n",
              "\t<tr><th scope=row>2</th><td>ARE </td><td>0.2775588</td><td>-0.0001865644</td></tr>\n",
              "\t<tr><th scope=row>3</th><td>AVB </td><td>0.1906657</td><td> 0.0011811215</td></tr>\n",
              "\t<tr><th scope=row>4</th><td>BXP </td><td>0.3208557</td><td> 0.0011870293</td></tr>\n",
              "\t<tr><th scope=row>5</th><td>CBRE</td><td>0.2728465</td><td> 0.0020846553</td></tr>\n",
              "\t<tr><th scope=row>6</th><td>CCI </td><td>0.2208264</td><td>-0.0002419013</td></tr>\n",
              "</tbody>\n",
              "</table>\n"
            ],
            "text/markdown": "\nA data.frame: 6 × 3\n\n| <!--/--> | X &lt;chr&gt; | Annual.Volatility &lt;dbl&gt; | Mean.Log.Return &lt;dbl&gt; |\n|---|---|---|---|\n| 1 | AMT  | 0.2403568 |  0.0001024872 |\n| 2 | ARE  | 0.2775588 | -0.0001865644 |\n| 3 | AVB  | 0.1906657 |  0.0011811215 |\n| 4 | BXP  | 0.3208557 |  0.0011870293 |\n| 5 | CBRE | 0.2728465 |  0.0020846553 |\n| 6 | CCI  | 0.2208264 | -0.0002419013 |\n\n",
            "text/latex": "A data.frame: 6 × 3\n\\begin{tabular}{r|lll}\n  & X & Annual.Volatility & Mean.Log.Return\\\\\n  & <chr> & <dbl> & <dbl>\\\\\n\\hline\n\t1 & AMT  & 0.2403568 &  0.0001024872\\\\\n\t2 & ARE  & 0.2775588 & -0.0001865644\\\\\n\t3 & AVB  & 0.1906657 &  0.0011811215\\\\\n\t4 & BXP  & 0.3208557 &  0.0011870293\\\\\n\t5 & CBRE & 0.2728465 &  0.0020846553\\\\\n\t6 & CCI  & 0.2208264 & -0.0002419013\\\\\n\\end{tabular}\n",
            "text/plain": [
              "  X    Annual.Volatility Mean.Log.Return\n",
              "1 AMT  0.2403568          0.0001024872  \n",
              "2 ARE  0.2775588         -0.0001865644  \n",
              "3 AVB  0.1906657          0.0011811215  \n",
              "4 BXP  0.3208557          0.0011870293  \n",
              "5 CBRE 0.2728465          0.0020846553  \n",
              "6 CCI  0.2208264         -0.0002419013  "
            ]
          },
          "metadata": {}
        }
      ]
    },
    {
      "cell_type": "code",
      "source": [
        "summary(data_volatility)"
      ],
      "metadata": {
        "colab": {
          "base_uri": "https://localhost:8080/",
          "height": 138
        },
        "id": "xmdzbKoVuYLR",
        "outputId": "a0a302ce-59ea-4422-ed14-ab04bdfb6d81"
      },
      "execution_count": null,
      "outputs": [
        {
          "output_type": "display_data",
          "data": {
            "text/plain": [
              "       X         Ticker            Volatility    \n",
              " Min.   : 0   Length:29          Min.   :0.1768  \n",
              " 1st Qu.: 7   Class :character   1st Qu.:0.1948  \n",
              " Median :14   Mode  :character   Median :0.2208  \n",
              " Mean   :14                      Mean   :0.2260  \n",
              " 3rd Qu.:21                      3rd Qu.:0.2510  \n",
              " Max.   :28                      Max.   :0.3209  "
            ]
          },
          "metadata": {}
        }
      ]
    },
    {
      "cell_type": "code",
      "source": [
        "install.packages(c(\"dbscan\", \"fpc\"))"
      ],
      "metadata": {
        "colab": {
          "base_uri": "https://localhost:8080/"
        },
        "id": "Zc0o374Vuwur",
        "outputId": "7a6177e6-d3ee-493b-e61d-35b966c4e3d6"
      },
      "execution_count": null,
      "outputs": [
        {
          "output_type": "stream",
          "name": "stderr",
          "text": [
            "Installing packages into ‘/usr/local/lib/R/site-library’\n",
            "(as ‘lib’ is unspecified)\n",
            "\n",
            "also installing the dependencies ‘modeltools’, ‘DEoptimR’, ‘mclust’, ‘flexmix’, ‘prabclus’, ‘diptest’, ‘robustbase’, ‘kernlab’\n",
            "\n",
            "\n"
          ]
        }
      ]
    },
    {
      "cell_type": "code",
      "source": [
        "# prompt: perform dbscan clustering for data_volatility$Volatility then visualize each cluster and do profiling\n",
        "\n",
        "library(dbscan)\n",
        "library(fpc)\n",
        "\n",
        "# Perform DBSCAN clustering\n",
        "set.seed(123) # for reproducibility\n",
        "db <- dbscan(data_volatility$Volatility, eps = 0.5, MinPts = 3) # Adjust eps and MinPts as needed\n",
        "\n",
        "# Visualize clusters\n",
        "plot(data_volatility$Volatility, col = db$cluster + 1, pch = 20, cex = 2, main = \"DBSCAN Clustering of Volatility\")\n",
        "points(data_volatility$Volatility[db$cluster == 0], col = \"gray\", pch = 8, cex = 1.5) # Highlight noise points\n",
        "\n",
        "# Add cluster labels to the data\n",
        "data_volatility$cluster <- db$cluster\n",
        "\n",
        "# Cluster profiling\n",
        "# Calculate summary statistics for each cluster\n",
        "# Profiling Cluster: Memisahkan mean, sd, dan median dalam kolom yang terpisah\n",
        "cluster_profiles <- aggregate(Volatility ~ cluster, data = data_volatility,\n",
        "                             FUN = function(x) c(mean = mean(x), sd = sd(x), median = median(x)))\n",
        "\n",
        "# Perbaiki agar hasilnya memiliki kolom yang terpisah untuk mean, sd, dan median\n",
        "cluster_profiles <- do.call(data.frame, cluster_profiles)\n",
        "\n",
        "# Menampilkan hasil profiling cluster\n",
        "print(cluster_profiles)\n",
        "\n",
        "cluster_profiles\n"
      ],
      "metadata": {
        "colab": {
          "base_uri": "https://localhost:8080/",
          "height": 584
        },
        "id": "xj2BSzFWua6z",
        "outputId": "c2812188-b125-44ea-aa66-b8d040e0c8c5"
      },
      "execution_count": null,
      "outputs": [
        {
          "output_type": "stream",
          "name": "stdout",
          "text": [
            "  cluster Volatility.mean Volatility.sd Volatility.median\n",
            "1       1       0.2260233    0.03517891         0.2208264\n"
          ]
        },
        {
          "output_type": "display_data",
          "data": {
            "text/html": [
              "<table class=\"dataframe\">\n",
              "<caption>A data.frame: 1 × 4</caption>\n",
              "<thead>\n",
              "\t<tr><th scope=col>cluster</th><th scope=col>Volatility.mean</th><th scope=col>Volatility.sd</th><th scope=col>Volatility.median</th></tr>\n",
              "\t<tr><th scope=col>&lt;dbl&gt;</th><th scope=col>&lt;dbl&gt;</th><th scope=col>&lt;dbl&gt;</th><th scope=col>&lt;dbl&gt;</th></tr>\n",
              "</thead>\n",
              "<tbody>\n",
              "\t<tr><td>1</td><td>0.2260233</td><td>0.03517891</td><td>0.2208264</td></tr>\n",
              "</tbody>\n",
              "</table>\n"
            ],
            "text/markdown": "\nA data.frame: 1 × 4\n\n| cluster &lt;dbl&gt; | Volatility.mean &lt;dbl&gt; | Volatility.sd &lt;dbl&gt; | Volatility.median &lt;dbl&gt; |\n|---|---|---|---|\n| 1 | 0.2260233 | 0.03517891 | 0.2208264 |\n\n",
            "text/latex": "A data.frame: 1 × 4\n\\begin{tabular}{llll}\n cluster & Volatility.mean & Volatility.sd & Volatility.median\\\\\n <dbl> & <dbl> & <dbl> & <dbl>\\\\\n\\hline\n\t 1 & 0.2260233 & 0.03517891 & 0.2208264\\\\\n\\end{tabular}\n",
            "text/plain": [
              "  cluster Volatility.mean Volatility.sd Volatility.median\n",
              "1 1       0.2260233       0.03517891    0.2208264        "
            ]
          },
          "metadata": {}
        },
        {
          "output_type": "display_data",
          "data": {
            "text/plain": [
              "Plot with title “DBSCAN Clustering of Volatility”"
            ],
            "image/png": "[encoded data removed]"
          },
          "metadata": {
            "image/png": {
              "width": 420,
              "height": 420
            }
          }
        }
      ]
    },
    {
      "cell_type": "code",
      "source": [
        "install.packages(\"ggplot2\")\n",
        "library(ggplot2)\n",
        " # untuk visualisasi"
      ],
      "metadata": {
        "colab": {
          "base_uri": "https://localhost:8080/"
        },
        "id": "oDvezji8zI1m",
        "outputId": "bb91a747-685c-459f-fa17-13a1f5ba2c6f"
      },
      "execution_count": null,
      "outputs": [
        {
          "output_type": "stream",
          "name": "stderr",
          "text": [
            "Installing package into ‘/usr/local/lib/R/site-library’\n",
            "(as ‘lib’ is unspecified)\n",
            "\n"
          ]
        }
      ]
    },
    {
      "cell_type": "code",
      "source": [
        "# Mengambil kolom Volatility\n",
        "volatility_data <- data_volatility$Volatility\n",
        "\n",
        "# Menentukan parameter untuk DBSCAN\n",
        "# eps adalah radius sekitar titik yang akan dianggap sebagai bagian dari cluster\n",
        "# minPts adalah jumlah minimal titik dalam radius eps untuk dianggap sebagai cluster\n",
        "dbscan_result <- dbscan(volatility_data, eps = 0.011)\n",
        "\n",
        "# Menambahkan hasil clustering ke data frame\n",
        "data_volatility$cluster <- dbscan_result$cluster\n",
        "# Membuat plot untuk melihat hasil clustering\n",
        "ggplot(data_volatility, aes(x = Volatility, y = 1, color = factor(cluster))) +\n",
        "  geom_point(size = 5) +\n",
        "  scale_color_manual(values = c(\"red\", \"blue\", \"green\", \"orange\", \"purple\", \"pink\")) +\n",
        "  labs(x = \"Volatility\", y = \"Cluster\", color = \"Cluster\") +\n",
        "  theme_minimal() +\n",
        "  theme(axis.text.y = element_blank(), axis.ticks.y = element_blank())\n",
        "\n"
      ],
      "metadata": {
        "colab": {
          "base_uri": "https://localhost:8080/",
          "height": 437
        },
        "id": "DrPHzre0yfOs",
        "outputId": "e32da1b6-6029-4ffd-9b5f-6dafc96e8807"
      },
      "execution_count": null,
      "outputs": [
        {
          "output_type": "display_data",
          "data": {
            "text/plain": [
              "plot without title"
            ],
            "image/png": "[encoded data removed]"
          },
          "metadata": {
            "image/png": {
              "width": 420,
              "height": 420
            }
          }
        }
      ]
    },
    {
      "cell_type": "code",
      "source": [
        "# Profiling cluster berdasarkan Volatility\n",
        "cluster_summary <- aggregate(Volatility ~ cluster, data = data_volatility, FUN = function(x) c(mean = mean(x), sd = sd(x), min = min(x), max = max(x)))\n",
        "\n",
        "# Menampilkan hasil profiling cluster\n",
        "print(cluster_summary)\n"
      ],
      "metadata": {
        "colab": {
          "base_uri": "https://localhost:8080/"
        },
        "id": "35eLeTNxzcKI",
        "outputId": "4b241e58-b898-4c49-aad0-d85f3bc72a73"
      },
      "execution_count": null,
      "outputs": [
        {
          "output_type": "stream",
          "name": "stdout",
          "text": [
            "  cluster Volatility.mean Volatility.sd Volatility.min Volatility.max\n",
            "1       0     0.299207275   0.030615503    0.277558845    0.320855704\n",
            "2       1     0.185293735   0.007094953    0.176773109    0.194763532\n",
            "3       2     0.218357050   0.006714800    0.206592771    0.229086421\n",
            "4       3     0.254482247   0.011705797    0.240356886    0.272846548\n"
          ]
        }
      ]
    },
    {
      "cell_type": "code",
      "source": [
        "# Select data points belonging to cluster 1\n",
        "data_best_cluster = data_volatility[data_volatility$cluster == 1, ]\n",
        "data_best_cluster"
      ],
      "metadata": {
        "colab": {
          "base_uri": "https://localhost:8080/",
          "height": 349
        },
        "id": "H4T8of4E1DnZ",
        "outputId": "eb0906bc-848c-486d-9610-230cb8a6cd80"
      },
      "execution_count": null,
      "outputs": [
        {
          "output_type": "display_data",
          "data": {
            "text/html": [
              "<table class=\"dataframe\">\n",
              "<caption>A data.frame: 8 × 4</caption>\n",
              "<thead>\n",
              "\t<tr><th></th><th scope=col>X</th><th scope=col>Ticker</th><th scope=col>Volatility</th><th scope=col>cluster</th></tr>\n",
              "\t<tr><th></th><th scope=col>&lt;int&gt;</th><th scope=col>&lt;chr&gt;</th><th scope=col>&lt;dbl&gt;</th><th scope=col>&lt;dbl&gt;</th></tr>\n",
              "</thead>\n",
              "<tbody>\n",
              "\t<tr><th scope=row>3</th><td> 2</td><td>AVB </td><td>0.1906657</td><td>1</td></tr>\n",
              "\t<tr><th scope=row>11</th><td>10</td><td>EQR </td><td>0.1947635</td><td>1</td></tr>\n",
              "\t<tr><th scope=row>14</th><td>13</td><td>FRT </td><td>0.1807445</td><td>1</td></tr>\n",
              "\t<tr><th scope=row>19</th><td>18</td><td>O   </td><td>0.1767731</td><td>1</td></tr>\n",
              "\t<tr><th scope=row>22</th><td>21</td><td>REG </td><td>0.1772951</td><td>1</td></tr>\n",
              "\t<tr><th scope=row>25</th><td>24</td><td>UDR </td><td>0.1938141</td><td>1</td></tr>\n",
              "\t<tr><th scope=row>26</th><td>25</td><td>VICI</td><td>0.1833313</td><td>1</td></tr>\n",
              "\t<tr><th scope=row>28</th><td>27</td><td>WELL</td><td>0.1849625</td><td>1</td></tr>\n",
              "</tbody>\n",
              "</table>\n"
            ],
            "text/markdown": "\nA data.frame: 8 × 4\n\n| <!--/--> | X &lt;int&gt; | Ticker &lt;chr&gt; | Volatility &lt;dbl&gt; | cluster &lt;dbl&gt; |\n|---|---|---|---|---|\n| 3 |  2 | AVB  | 0.1906657 | 1 |\n| 11 | 10 | EQR  | 0.1947635 | 1 |\n| 14 | 13 | FRT  | 0.1807445 | 1 |\n| 19 | 18 | O    | 0.1767731 | 1 |\n| 22 | 21 | REG  | 0.1772951 | 1 |\n| 25 | 24 | UDR  | 0.1938141 | 1 |\n| 26 | 25 | VICI | 0.1833313 | 1 |\n| 28 | 27 | WELL | 0.1849625 | 1 |\n\n",
            "text/latex": "A data.frame: 8 × 4\n\\begin{tabular}{r|llll}\n  & X & Ticker & Volatility & cluster\\\\\n  & <int> & <chr> & <dbl> & <dbl>\\\\\n\\hline\n\t3 &  2 & AVB  & 0.1906657 & 1\\\\\n\t11 & 10 & EQR  & 0.1947635 & 1\\\\\n\t14 & 13 & FRT  & 0.1807445 & 1\\\\\n\t19 & 18 & O    & 0.1767731 & 1\\\\\n\t22 & 21 & REG  & 0.1772951 & 1\\\\\n\t25 & 24 & UDR  & 0.1938141 & 1\\\\\n\t26 & 25 & VICI & 0.1833313 & 1\\\\\n\t28 & 27 & WELL & 0.1849625 & 1\\\\\n\\end{tabular}\n",
            "text/plain": [
              "   X  Ticker Volatility cluster\n",
              "3   2 AVB    0.1906657  1      \n",
              "11 10 EQR    0.1947635  1      \n",
              "14 13 FRT    0.1807445  1      \n",
              "19 18 O      0.1767731  1      \n",
              "22 21 REG    0.1772951  1      \n",
              "25 24 UDR    0.1938141  1      \n",
              "26 25 VICI   0.1833313  1      \n",
              "28 27 WELL   0.1849625  1      "
            ]
          },
          "metadata": {}
        }
      ]
    },
    {
      "cell_type": "code",
      "source": [
        "best_ticker = data_best_cluster$Ticker\n",
        "best_ticker"
      ],
      "metadata": {
        "colab": {
          "base_uri": "https://localhost:8080/",
          "height": 34
        },
        "id": "HH1mhXIG6Da5",
        "outputId": "08efe41f-23c0-474b-b83e-79d55fce0908"
      },
      "execution_count": null,
      "outputs": [
        {
          "output_type": "display_data",
          "data": {
            "text/html": [
              "<style>\n",
              ".list-inline {list-style: none; margin:0; padding: 0}\n",
              ".list-inline>li {display: inline-block}\n",
              ".list-inline>li:not(:last-child)::after {content: \"\\00b7\"; padding: 0 .5ex}\n",
              "</style>\n",
              "<ol class=list-inline><li>'AVB'</li><li>'EQR'</li><li>'FRT'</li><li>'O'</li><li>'REG'</li><li>'UDR'</li><li>'VICI'</li><li>'WELL'</li></ol>\n"
            ],
            "text/markdown": "1. 'AVB'\n2. 'EQR'\n3. 'FRT'\n4. 'O'\n5. 'REG'\n6. 'UDR'\n7. 'VICI'\n8. 'WELL'\n\n\n",
            "text/latex": "\\begin{enumerate*}\n\\item 'AVB'\n\\item 'EQR'\n\\item 'FRT'\n\\item 'O'\n\\item 'REG'\n\\item 'UDR'\n\\item 'VICI'\n\\item 'WELL'\n\\end{enumerate*}\n",
            "text/plain": [
              "[1] \"AVB\"  \"EQR\"  \"FRT\"  \"O\"    \"REG\"  \"UDR\"  \"VICI\" \"WELL\""
            ]
          },
          "metadata": {}
        }
      ]
    },
    {
      "cell_type": "markdown",
      "source": [
        "# Clustering revise"
      ],
      "metadata": {
        "id": "KUkLvS1ebB2Z"
      }
    },
    {
      "cell_type": "code",
      "source": [
        "cluster_profiles"
      ],
      "metadata": {
        "colab": {
          "base_uri": "https://localhost:8080/",
          "height": 149
        },
        "id": "pxPCA2T5bjD2",
        "outputId": "bc57bce2-a07e-4e13-b52f-ae348f772dfe"
      },
      "execution_count": null,
      "outputs": [
        {
          "output_type": "display_data",
          "data": {
            "text/html": [
              "<table class=\"dataframe\">\n",
              "<caption>A data.frame: 1 × 7</caption>\n",
              "<thead>\n",
              "\t<tr><th scope=col>Cluster</th><th scope=col>Volatility_Mean</th><th scope=col>Volatility_SD</th><th scope=col>Volatility_Median</th><th scope=col>LogReturn_Mean</th><th scope=col>LogReturn_SD</th><th scope=col>LogReturn_Median</th></tr>\n",
              "\t<tr><th scope=col>&lt;dbl&gt;</th><th scope=col>&lt;dbl&gt;</th><th scope=col>&lt;dbl&gt;</th><th scope=col>&lt;dbl&gt;</th><th scope=col>&lt;dbl&gt;</th><th scope=col>&lt;dbl&gt;</th><th scope=col>&lt;dbl&gt;</th></tr>\n",
              "</thead>\n",
              "<tbody>\n",
              "\t<tr><td>1</td><td>0.2260233</td><td>0.03517892</td><td>0.2208264</td><td>0.0008914177</td><td>0.0006994318</td><td>0.001024378</td></tr>\n",
              "</tbody>\n",
              "</table>\n"
            ],
            "text/markdown": "\nA data.frame: 1 × 7\n\n| Cluster &lt;dbl&gt; | Volatility_Mean &lt;dbl&gt; | Volatility_SD &lt;dbl&gt; | Volatility_Median &lt;dbl&gt; | LogReturn_Mean &lt;dbl&gt; | LogReturn_SD &lt;dbl&gt; | LogReturn_Median &lt;dbl&gt; |\n|---|---|---|---|---|---|---|\n| 1 | 0.2260233 | 0.03517892 | 0.2208264 | 0.0008914177 | 0.0006994318 | 0.001024378 |\n\n",
            "text/latex": "A data.frame: 1 × 7\n\\begin{tabular}{lllllll}\n Cluster & Volatility\\_Mean & Volatility\\_SD & Volatility\\_Median & LogReturn\\_Mean & LogReturn\\_SD & LogReturn\\_Median\\\\\n <dbl> & <dbl> & <dbl> & <dbl> & <dbl> & <dbl> & <dbl>\\\\\n\\hline\n\t 1 & 0.2260233 & 0.03517892 & 0.2208264 & 0.0008914177 & 0.0006994318 & 0.001024378\\\\\n\\end{tabular}\n",
            "text/plain": [
              "  Cluster Volatility_Mean Volatility_SD Volatility_Median LogReturn_Mean\n",
              "1 1       0.2260233       0.03517892    0.2208264         0.0008914177  \n",
              "  LogReturn_SD LogReturn_Median\n",
              "1 0.0006994318 0.001024378     "
            ]
          },
          "metadata": {}
        }
      ]
    },
    {
      "cell_type": "code",
      "source": [
        "library(dbscan)\n",
        "library(fpc)\n",
        "library(ggplot2)\n",
        "\n",
        "# Read CSV data\n",
        "data_volatility <- read.csv(\"/content/volatility_mean_data.csv\")\n",
        "head(data_volatility)\n",
        "\n",
        "# Perform DBSCAN clustering using both Volatility and Mean.Log.Return\n",
        "set.seed(123)  # For reproducibility\n",
        "data_for_clustering <- data_volatility[, c(\"Annual.Volatility\", \"Mean.Log.Return\")]\n",
        "\n",
        "# Perform DBSCAN clustering\n",
        "db <- dbscan(data_for_clustering, eps = 0.01, MinPts = 3)  # Adjust eps and MinPts as needed\n",
        "\n",
        "# Add cluster labels to the data\n",
        "data_volatility$cluster <- db$cluster\n",
        "\n",
        "# Visualize clusters (2D plot: Volatility vs Mean Log Return)\n",
        "ggplot(data_volatility, aes(x = Annual.Volatility, y = Mean.Log.Return, color = as.factor(cluster))) +\n",
        "  geom_point(size = 3) +\n",
        "  scale_color_manual(values = c(\"gray\", \"blue\", \"red\", \"green\", \"purple\")) +\n",
        "  labs(title = \"DBSCAN Clustering: Volatility vs Mean Log Return\",\n",
        "       x = \"Annual Volatility\", y = \"Mean Log Return\", color = \"Cluster\") +\n",
        "  theme_minimal()\n",
        "\n",
        "# Cluster profiling: Summary statistics for each cluster\n",
        "cluster_profiles <- aggregate(cbind(Annual.Volatility, Mean.Log.Return) ~ cluster,\n",
        "                              data = data_volatility,\n",
        "                              FUN = function(x) c(mean = mean(x), sd = sd(x), median = median(x)))\n",
        "\n",
        "# Flatten the data so it looks cleaner\n",
        "cluster_profiles <- do.call(data.frame, cluster_profiles)\n",
        "\n",
        "# Rename columns for clarity\n",
        "names(cluster_profiles) <- c(\"Cluster\", \"Volatility_Mean\", \"Volatility_SD\", \"Volatility_Median\",\n",
        "                             \"LogReturn_Mean\", \"LogReturn_SD\", \"LogReturn_Median\")\n",
        "\n",
        "# Display cluster profiles\n",
        "print(cluster_profiles)\n",
        "\n"
      ],
      "metadata": {
        "colab": {
          "base_uri": "https://localhost:8080/",
          "height": 880
        },
        "id": "IlG5vYd4bDWv",
        "outputId": "2a16be34-579d-4862-e468-34ad77f89b4c"
      },
      "execution_count": null,
      "outputs": [
        {
          "output_type": "display_data",
          "data": {
            "text/html": [
              "<table class=\"dataframe\">\n",
              "<caption>A data.frame: 6 × 3</caption>\n",
              "<thead>\n",
              "\t<tr><th></th><th scope=col>X</th><th scope=col>Annual.Volatility</th><th scope=col>Mean.Log.Return</th></tr>\n",
              "\t<tr><th></th><th scope=col>&lt;chr&gt;</th><th scope=col>&lt;dbl&gt;</th><th scope=col>&lt;dbl&gt;</th></tr>\n",
              "</thead>\n",
              "<tbody>\n",
              "\t<tr><th scope=row>1</th><td>AMT </td><td>0.2403568</td><td> 0.0001024872</td></tr>\n",
              "\t<tr><th scope=row>2</th><td>ARE </td><td>0.2775588</td><td>-0.0001865644</td></tr>\n",
              "\t<tr><th scope=row>3</th><td>AVB </td><td>0.1906657</td><td> 0.0011811215</td></tr>\n",
              "\t<tr><th scope=row>4</th><td>BXP </td><td>0.3208557</td><td> 0.0011870293</td></tr>\n",
              "\t<tr><th scope=row>5</th><td>CBRE</td><td>0.2728465</td><td> 0.0020846553</td></tr>\n",
              "\t<tr><th scope=row>6</th><td>CCI </td><td>0.2208264</td><td>-0.0002419013</td></tr>\n",
              "</tbody>\n",
              "</table>\n"
            ],
            "text/markdown": "\nA data.frame: 6 × 3\n\n| <!--/--> | X &lt;chr&gt; | Annual.Volatility &lt;dbl&gt; | Mean.Log.Return &lt;dbl&gt; |\n|---|---|---|---|\n| 1 | AMT  | 0.2403568 |  0.0001024872 |\n| 2 | ARE  | 0.2775588 | -0.0001865644 |\n| 3 | AVB  | 0.1906657 |  0.0011811215 |\n| 4 | BXP  | 0.3208557 |  0.0011870293 |\n| 5 | CBRE | 0.2728465 |  0.0020846553 |\n| 6 | CCI  | 0.2208264 | -0.0002419013 |\n\n",
            "text/latex": "A data.frame: 6 × 3\n\\begin{tabular}{r|lll}\n  & X & Annual.Volatility & Mean.Log.Return\\\\\n  & <chr> & <dbl> & <dbl>\\\\\n\\hline\n\t1 & AMT  & 0.2403568 &  0.0001024872\\\\\n\t2 & ARE  & 0.2775588 & -0.0001865644\\\\\n\t3 & AVB  & 0.1906657 &  0.0011811215\\\\\n\t4 & BXP  & 0.3208557 &  0.0011870293\\\\\n\t5 & CBRE & 0.2728465 &  0.0020846553\\\\\n\t6 & CCI  & 0.2208264 & -0.0002419013\\\\\n\\end{tabular}\n",
            "text/plain": [
              "  X    Annual.Volatility Mean.Log.Return\n",
              "1 AMT  0.2403568          0.0001024872  \n",
              "2 ARE  0.2775588         -0.0001865644  \n",
              "3 AVB  0.1906657          0.0011811215  \n",
              "4 BXP  0.3208557          0.0011870293  \n",
              "5 CBRE 0.2728465          0.0020846553  \n",
              "6 CCI  0.2208264         -0.0002419013  "
            ]
          },
          "metadata": {}
        },
        {
          "output_type": "stream",
          "name": "stdout",
          "text": [
            "  Cluster Volatility_Mean Volatility_SD Volatility_Median LogReturn_Mean\n",
            "1       0       0.3208557            NA         0.3208557   0.0011870293\n",
            "2       1       0.2567899   0.013230795         0.2592375   0.0008241209\n",
            "3       2       0.1852937   0.007094954         0.1841469   0.0009283296\n",
            "4       3       0.2183571   0.006714768         0.2168406   0.0008996240\n",
            "  LogReturn_SD LogReturn_Median\n",
            "1           NA     0.0011870293\n",
            "2 0.0009860587     0.0007991672\n",
            "3 0.0004682339     0.0009319699\n",
            "4 0.0006025850     0.0011494109\n"
          ]
        },
        {
          "output_type": "display_data",
          "data": {
            "text/plain": [
              "plot without title"
            ],
            "image/png": "[encoded data removed]"
          },
          "metadata": {
            "image/png": {
              "width": 420,
              "height": 420
            }
          }
        }
      ]
    },
    {
      "cell_type": "code",
      "source": [
        "cluster_profiles"
      ],
      "metadata": {
        "colab": {
          "base_uri": "https://localhost:8080/",
          "height": 244
        },
        "id": "iQpYMqf3d_NH",
        "outputId": "8df84906-59f6-42c6-ca2f-294f05fdaaee"
      },
      "execution_count": null,
      "outputs": [
        {
          "output_type": "display_data",
          "data": {
            "text/html": [
              "<table class=\"dataframe\">\n",
              "<caption>A data.frame: 4 × 7</caption>\n",
              "<thead>\n",
              "\t<tr><th scope=col>Cluster</th><th scope=col>Volatility_Mean</th><th scope=col>Volatility_SD</th><th scope=col>Volatility_Median</th><th scope=col>LogReturn_Mean</th><th scope=col>LogReturn_SD</th><th scope=col>LogReturn_Median</th></tr>\n",
              "\t<tr><th scope=col>&lt;dbl&gt;</th><th scope=col>&lt;dbl&gt;</th><th scope=col>&lt;dbl&gt;</th><th scope=col>&lt;dbl&gt;</th><th scope=col>&lt;dbl&gt;</th><th scope=col>&lt;dbl&gt;</th><th scope=col>&lt;dbl&gt;</th></tr>\n",
              "</thead>\n",
              "<tbody>\n",
              "\t<tr><td>0</td><td>0.3208557</td><td>         NA</td><td>0.3208557</td><td>0.0011870293</td><td>          NA</td><td>0.0011870293</td></tr>\n",
              "\t<tr><td>1</td><td>0.2567899</td><td>0.013230795</td><td>0.2592375</td><td>0.0008241209</td><td>0.0009860587</td><td>0.0007991672</td></tr>\n",
              "\t<tr><td>2</td><td>0.1852937</td><td>0.007094954</td><td>0.1841469</td><td>0.0009283296</td><td>0.0004682339</td><td>0.0009319699</td></tr>\n",
              "\t<tr><td>3</td><td>0.2183571</td><td>0.006714768</td><td>0.2168406</td><td>0.0008996240</td><td>0.0006025850</td><td>0.0011494109</td></tr>\n",
              "</tbody>\n",
              "</table>\n"
            ],
            "text/markdown": "\nA data.frame: 4 × 7\n\n| Cluster &lt;dbl&gt; | Volatility_Mean &lt;dbl&gt; | Volatility_SD &lt;dbl&gt; | Volatility_Median &lt;dbl&gt; | LogReturn_Mean &lt;dbl&gt; | LogReturn_SD &lt;dbl&gt; | LogReturn_Median &lt;dbl&gt; |\n|---|---|---|---|---|---|---|\n| 0 | 0.3208557 |          NA | 0.3208557 | 0.0011870293 |           NA | 0.0011870293 |\n| 1 | 0.2567899 | 0.013230795 | 0.2592375 | 0.0008241209 | 0.0009860587 | 0.0007991672 |\n| 2 | 0.1852937 | 0.007094954 | 0.1841469 | 0.0009283296 | 0.0004682339 | 0.0009319699 |\n| 3 | 0.2183571 | 0.006714768 | 0.2168406 | 0.0008996240 | 0.0006025850 | 0.0011494109 |\n\n",
            "text/latex": "A data.frame: 4 × 7\n\\begin{tabular}{lllllll}\n Cluster & Volatility\\_Mean & Volatility\\_SD & Volatility\\_Median & LogReturn\\_Mean & LogReturn\\_SD & LogReturn\\_Median\\\\\n <dbl> & <dbl> & <dbl> & <dbl> & <dbl> & <dbl> & <dbl>\\\\\n\\hline\n\t 0 & 0.3208557 &          NA & 0.3208557 & 0.0011870293 &           NA & 0.0011870293\\\\\n\t 1 & 0.2567899 & 0.013230795 & 0.2592375 & 0.0008241209 & 0.0009860587 & 0.0007991672\\\\\n\t 2 & 0.1852937 & 0.007094954 & 0.1841469 & 0.0009283296 & 0.0004682339 & 0.0009319699\\\\\n\t 3 & 0.2183571 & 0.006714768 & 0.2168406 & 0.0008996240 & 0.0006025850 & 0.0011494109\\\\\n\\end{tabular}\n",
            "text/plain": [
              "  Cluster Volatility_Mean Volatility_SD Volatility_Median LogReturn_Mean\n",
              "1 0       0.3208557                NA   0.3208557         0.0011870293  \n",
              "2 1       0.2567899       0.013230795   0.2592375         0.0008241209  \n",
              "3 2       0.1852937       0.007094954   0.1841469         0.0009283296  \n",
              "4 3       0.2183571       0.006714768   0.2168406         0.0008996240  \n",
              "  LogReturn_SD LogReturn_Median\n",
              "1           NA 0.0011870293    \n",
              "2 0.0009860587 0.0007991672    \n",
              "3 0.0004682339 0.0009319699    \n",
              "4 0.0006025850 0.0011494109    "
            ]
          },
          "metadata": {}
        }
      ]
    },
    {
      "cell_type": "code",
      "source": [
        "library(dbscan)\n",
        "library(fpc)\n",
        "library(ggplot2)\n",
        "\n",
        "# Read CSV data\n",
        "data_volatility <- read.csv(\"/content/volatility_mean_data.csv\")\n",
        "head(data_volatility)\n",
        "\n",
        "# Perform DBSCAN clustering using both Volatility and Mean.Log.Return\n",
        "set.seed(123)  # For reproducibility\n",
        "data_for_clustering <- data_volatility[, c(\"Annual.Volatility\", \"Mean.Log.Return\")]\n",
        "\n",
        "# Perform DBSCAN clustering\n",
        "db <- dbscan(data_for_clustering, eps = 0.01, MinPts = 3)  # Adjust eps and MinPts as needed\n",
        "\n",
        "# Add cluster labels to the data\n",
        "data_volatility$cluster <- db$cluster\n",
        "\n",
        "# Visualize clusters (2D plot: Volatility vs Mean Log Return)\n",
        "ggplot(data_volatility, aes(x = Annual.Volatility, y = Mean.Log.Return, color = as.factor(cluster))) +\n",
        "  geom_point(size = 3) +\n",
        "  scale_color_manual(values = c(\"gray\", \"blue\", \"red\", \"green\", \"purple\")) +\n",
        "  labs(title = \"DBSCAN Clustering: Volatility vs Mean Log Return\",\n",
        "       x = \"Annual Volatility\", y = \"Mean Log Return\", color = \"Cluster\") +\n",
        "  theme_minimal()\n",
        "\n",
        "# Cluster profiling: Summary statistics for each cluster\n",
        "cluster_profiles <- aggregate(cbind(Annual.Volatility, Mean.Log.Return) ~ cluster,\n",
        "                              data = data_volatility,\n",
        "                              FUN = function(x) c(mean = mean(x), sd = sd(x), median = median(x)))\n",
        "\n",
        "# Flatten the data so it looks cleaner\n",
        "cluster_profiles <- do.call(data.frame, cluster_profiles)\n",
        "\n",
        "# Rename columns for clarity\n",
        "names(cluster_profiles) <- c(\"Cluster\", \"Volatility_Mean\", \"Volatility_SD\", \"Volatility_Median\",\n",
        "                             \"LogReturn_Mean\", \"LogReturn_SD\", \"LogReturn_Median\")\n",
        "\n",
        "# Display cluster profiles\n",
        "print(cluster_profiles)\n",
        "\n",
        "# Filter rows where cluster is 2\n",
        "cluster_2_data <- data_volatility[data_volatility$cluster == 2, ]\n",
        "\n",
        "# Print only rows where cluster is 2\n",
        "print(cluster_2_data)\n"
      ],
      "metadata": {
        "colab": {
          "base_uri": "https://localhost:8080/",
          "height": 1000
        },
        "id": "nKZZadr5e1rf",
        "outputId": "71a3c6be-3c2e-40a1-bad5-402693be6e5e"
      },
      "execution_count": null,
      "outputs": [
        {
          "output_type": "display_data",
          "data": {
            "text/html": [
              "<table class=\"dataframe\">\n",
              "<caption>A data.frame: 6 × 3</caption>\n",
              "<thead>\n",
              "\t<tr><th></th><th scope=col>X</th><th scope=col>Annual.Volatility</th><th scope=col>Mean.Log.Return</th></tr>\n",
              "\t<tr><th></th><th scope=col>&lt;chr&gt;</th><th scope=col>&lt;dbl&gt;</th><th scope=col>&lt;dbl&gt;</th></tr>\n",
              "</thead>\n",
              "<tbody>\n",
              "\t<tr><th scope=row>1</th><td>AMT </td><td>0.2403568</td><td> 0.0001024872</td></tr>\n",
              "\t<tr><th scope=row>2</th><td>ARE </td><td>0.2775588</td><td>-0.0001865644</td></tr>\n",
              "\t<tr><th scope=row>3</th><td>AVB </td><td>0.1906657</td><td> 0.0011811215</td></tr>\n",
              "\t<tr><th scope=row>4</th><td>BXP </td><td>0.3208557</td><td> 0.0011870293</td></tr>\n",
              "\t<tr><th scope=row>5</th><td>CBRE</td><td>0.2728465</td><td> 0.0020846553</td></tr>\n",
              "\t<tr><th scope=row>6</th><td>CCI </td><td>0.2208264</td><td>-0.0002419013</td></tr>\n",
              "</tbody>\n",
              "</table>\n"
            ],
            "text/markdown": "\nA data.frame: 6 × 3\n\n| <!--/--> | X &lt;chr&gt; | Annual.Volatility &lt;dbl&gt; | Mean.Log.Return &lt;dbl&gt; |\n|---|---|---|---|\n| 1 | AMT  | 0.2403568 |  0.0001024872 |\n| 2 | ARE  | 0.2775588 | -0.0001865644 |\n| 3 | AVB  | 0.1906657 |  0.0011811215 |\n| 4 | BXP  | 0.3208557 |  0.0011870293 |\n| 5 | CBRE | 0.2728465 |  0.0020846553 |\n| 6 | CCI  | 0.2208264 | -0.0002419013 |\n\n",
            "text/latex": "A data.frame: 6 × 3\n\\begin{tabular}{r|lll}\n  & X & Annual.Volatility & Mean.Log.Return\\\\\n  & <chr> & <dbl> & <dbl>\\\\\n\\hline\n\t1 & AMT  & 0.2403568 &  0.0001024872\\\\\n\t2 & ARE  & 0.2775588 & -0.0001865644\\\\\n\t3 & AVB  & 0.1906657 &  0.0011811215\\\\\n\t4 & BXP  & 0.3208557 &  0.0011870293\\\\\n\t5 & CBRE & 0.2728465 &  0.0020846553\\\\\n\t6 & CCI  & 0.2208264 & -0.0002419013\\\\\n\\end{tabular}\n",
            "text/plain": [
              "  X    Annual.Volatility Mean.Log.Return\n",
              "1 AMT  0.2403568          0.0001024872  \n",
              "2 ARE  0.2775588         -0.0001865644  \n",
              "3 AVB  0.1906657          0.0011811215  \n",
              "4 BXP  0.3208557          0.0011870293  \n",
              "5 CBRE 0.2728465          0.0020846553  \n",
              "6 CCI  0.2208264         -0.0002419013  "
            ]
          },
          "metadata": {}
        },
        {
          "output_type": "stream",
          "name": "stdout",
          "text": [
            "  Cluster Volatility_Mean Volatility_SD Volatility_Median LogReturn_Mean\n",
            "1       0       0.3208557            NA         0.3208557   0.0011870293\n",
            "2       1       0.2567899   0.013230795         0.2592375   0.0008241209\n",
            "3       2       0.1852937   0.007094954         0.1841469   0.0009283296\n",
            "4       3       0.2183571   0.006714768         0.2168406   0.0008996240\n",
            "  LogReturn_SD LogReturn_Median\n",
            "1           NA     0.0011870293\n",
            "2 0.0009860587     0.0007991672\n",
            "3 0.0004682339     0.0009319699\n",
            "4 0.0006025850     0.0011494109\n",
            "      X Annual.Volatility Mean.Log.Return cluster\n",
            "3   AVB         0.1906657    0.0011811215       2\n",
            "11  EQR         0.1947635    0.0011532423       2\n",
            "14  FRT         0.1807445    0.0007030004       2\n",
            "19    O         0.1767730    0.0003048780       2\n",
            "22  REG         0.1772950    0.0007106974       2\n",
            "25  UDR         0.1938141    0.0012464397       2\n",
            "26 VICI         0.1833314    0.0004329239       2\n",
            "28 WELL         0.1849624    0.0016943334       2\n"
          ]
        },
        {
          "output_type": "display_data",
          "data": {
            "text/plain": [
              "plot without title"
            ],
            "image/png": "[encoded data removed]"
          },
          "metadata": {
            "image/png": {
              "width": 420,
              "height": 420
            }
          }
        }
      ]
    },
    {
      "cell_type": "markdown",
      "source": [
        "# Analisis Metaheuristik : Genetic Algorithm"
      ],
      "metadata": {
        "id": "m_RXK_Bv2wSv"
      }
    },
    {
      "cell_type": "code",
      "source": [
        "install.packages(c(\"GA\", \"MASS\", \"VGAM\", \"rrcov\", \"quadprog\"))"
      ],
      "metadata": {
        "colab": {
          "base_uri": "https://localhost:8080/"
        },
        "id": "U6iMc4d13Fmz",
        "outputId": "46ded2e1-9118-466b-e9fa-7133132d7983"
      },
      "execution_count": null,
      "outputs": [
        {
          "output_type": "stream",
          "name": "stderr",
          "text": [
            "Installing packages into ‘/usr/local/lib/R/site-library’\n",
            "(as ‘lib’ is unspecified)\n",
            "\n",
            "also installing the dependencies ‘foreach’, ‘iterators’, ‘RcppArmadillo’, ‘mvtnorm’, ‘pcaPP’\n",
            "\n",
            "\n"
          ]
        }
      ]
    },
    {
      "cell_type": "code",
      "source": [
        "library(GA)\n",
        "library(MASS)\n",
        "library(VGAM)\n",
        "library(rrcov)\n",
        "library(quadprog)"
      ],
      "metadata": {
        "colab": {
          "base_uri": "https://localhost:8080/"
        },
        "id": "MZ2T3MBS3Kb6",
        "outputId": "14e790ea-fe4e-4cd2-b797-cadddc739f53"
      },
      "execution_count": null,
      "outputs": [
        {
          "output_type": "stream",
          "name": "stderr",
          "text": [
            "Loading required package: foreach\n",
            "\n",
            "Loading required package: iterators\n",
            "\n",
            "Package 'GA' version 3.2.4\n",
            "Type 'citation(\"GA\")' for citing this R package in publications.\n",
            "\n",
            "\n",
            "Attaching package: ‘GA’\n",
            "\n",
            "\n",
            "The following object is masked from ‘package:utils’:\n",
            "\n",
            "    de\n",
            "\n",
            "\n",
            "Loading required package: stats4\n",
            "\n",
            "Loading required package: splines\n",
            "\n",
            "Loading required package: robustbase\n",
            "\n",
            "Scalable Robust Estimators with High Breakdown Point (version 1.7-6)\n",
            "\n",
            "\n"
          ]
        }
      ]
    },
    {
      "cell_type": "markdown",
      "source": [
        "## data"
      ],
      "metadata": {
        "id": "TMfFfFIc4eNT"
      }
    },
    {
      "cell_type": "code",
      "source": [
        "data_saham = read.csv(\"/content/log_return_data.csv\")\n",
        "summary(data_saham)"
      ],
      "metadata": {
        "colab": {
          "base_uri": "https://localhost:8080/",
          "height": 1000
        },
        "id": "1p1RUvwP4a4m",
        "outputId": "3429baac-343c-45d6-96b0-fd9e1652971d"
      },
      "execution_count": null,
      "outputs": [
        {
          "output_type": "display_data",
          "data": {
            "text/plain": [
              "     Date                AMT                  ARE            \n",
              " Length:250         Min.   :-0.0796882   Min.   :-0.0542216  \n",
              " Class :character   1st Qu.:-0.0079444   1st Qu.:-0.0100177  \n",
              " Mode  :character   Median : 0.0003262   Median :-0.0016638  \n",
              "                    Mean   : 0.0001025   Mean   :-0.0001866  \n",
              "                    3rd Qu.: 0.0085753   3rd Qu.: 0.0095625  \n",
              "                    Max.   : 0.0516490   Max.   : 0.0710432  \n",
              "      AVB                 BXP                 CBRE          \n",
              " Min.   :-0.029389   Min.   :-0.062723   Min.   :-0.051950  \n",
              " 1st Qu.:-0.006303   1st Qu.:-0.011816   1st Qu.:-0.007402  \n",
              " Median : 0.001823   Median : 0.001476   Median : 0.001823  \n",
              " Mean   : 0.001181   Mean   : 0.001187   Mean   : 0.002085  \n",
              " 3rd Qu.: 0.008758   3rd Qu.: 0.013988   3rd Qu.: 0.010420  \n",
              " Max.   : 0.051013   Max.   : 0.081672   Max.   : 0.088815  \n",
              "      CCI                  CPT                 DLR           \n",
              " Min.   :-0.0493100   Min.   :-0.029886   Min.   :-0.087054  \n",
              " 1st Qu.:-0.0083137   1st Qu.:-0.008004   1st Qu.:-0.007654  \n",
              " Median : 0.0010889   Median : 0.001753   Median : 0.001793  \n",
              " Mean   :-0.0002419   Mean   : 0.001303   Mean   : 0.001464  \n",
              " 3rd Qu.: 0.0078105   3rd Qu.: 0.009702   3rd Qu.: 0.010530  \n",
              " Max.   : 0.0485375   Max.   : 0.055461   Max.   : 0.091819  \n",
              "      DOC                  EQIX                 EQR           \n",
              " Min.   :-0.0368000   Min.   :-0.0487877   Min.   :-0.049622  \n",
              " 1st Qu.:-0.0086681   1st Qu.:-0.0081411   1st Qu.:-0.007164  \n",
              " Median : 0.0000000   Median : 0.0006278   Median : 0.001873  \n",
              " Mean   : 0.0008786   Mean   : 0.0007197   Mean   : 0.001153  \n",
              " 3rd Qu.: 0.0112117   3rd Qu.: 0.0088777   3rd Qu.: 0.008959  \n",
              " Max.   : 0.0534586   Max.   : 0.1089299   Max.   : 0.046512  \n",
              "      ESS                 EXR                 FRT            \n",
              " Min.   :-0.035167   Min.   :-0.067101   Min.   :-0.0320937  \n",
              " 1st Qu.:-0.008144   1st Qu.:-0.008439   1st Qu.:-0.0057471  \n",
              " Median : 0.002280   Median : 0.002024   Median : 0.0007007  \n",
              " Mean   : 0.001392   Mean   : 0.001021   Mean   : 0.0007030  \n",
              " 3rd Qu.: 0.009644   3rd Qu.: 0.010146   3rd Qu.: 0.0074271  \n",
              " Max.   : 0.046274   Max.   : 0.069104   Max.   : 0.0434401  \n",
              "      HST                  IRM                 KIM            \n",
              " Min.   :-0.0472272   Min.   :-0.094086   Min.   :-0.0531004  \n",
              " 1st Qu.:-0.0076207   1st Qu.:-0.006127   1st Qu.:-0.0066702  \n",
              " Median : 0.0014915   Median : 0.004399   Median : 0.0005259  \n",
              " Mean   : 0.0002847   Mean   : 0.002557   Mean   : 0.0010244  \n",
              " 3rd Qu.: 0.0092358   3rd Qu.: 0.011568   3rd Qu.: 0.0086687  \n",
              " Max.   : 0.0357084   Max.   : 0.065842   Max.   : 0.0575146  \n",
              "      MAA                   O                   PLD            \n",
              " Min.   :-0.0287963   Min.   :-0.0420642   Min.   :-7.462e-02  \n",
              " 1st Qu.:-0.0069746   1st Qu.:-0.0056176   1st Qu.:-9.151e-03  \n",
              " Median : 0.0005812   Median : 0.0003823   Median : 3.721e-04  \n",
              " Mean   : 0.0011563   Mean   : 0.0003049   Mean   :-3.318e-05  \n",
              " 3rd Qu.: 0.0080706   3rd Qu.: 0.0070485   3rd Qu.: 9.007e-03  \n",
              " Max.   : 0.0464127   Max.   : 0.0385286   Max.   : 5.919e-02  \n",
              "      PSA                 REG                  SBAC           \n",
              " Min.   :-0.061475   Min.   :-0.0312131   Min.   :-0.0813314  \n",
              " 1st Qu.:-0.007860   1st Qu.:-0.0055670   1st Qu.:-0.0084905  \n",
              " Median : 0.001944   Median : 0.0000000   Median : 0.0001904  \n",
              " Mean   : 0.001143   Mean   : 0.0007107   Mean   :-0.0003671  \n",
              " 3rd Qu.: 0.010099   3rd Qu.: 0.0077496   3rd Qu.: 0.0084830  \n",
              " Max.   : 0.045483   Max.   : 0.0474561   Max.   : 0.0724673  \n",
              "      SPG                 UDR                 VICI           \n",
              " Min.   :-0.045197   Min.   :-0.031726   Min.   :-0.0583830  \n",
              " 1st Qu.:-0.005943   1st Qu.:-0.007077   1st Qu.:-0.0049966  \n",
              " Median : 0.001489   Median : 0.002120   Median : 0.0007016  \n",
              " Mean   : 0.001518   Mean   : 0.001246   Mean   : 0.0004329  \n",
              " 3rd Qu.: 0.009549   3rd Qu.: 0.009152   3rd Qu.: 0.0068927  \n",
              " Max.   : 0.051229   Max.   : 0.046033   Max.   : 0.0527265  \n",
              "      VTR                 WELL                 WY            \n",
              " Min.   :-0.037269   Min.   :-0.030493   Min.   :-0.0416789  \n",
              " 1st Qu.:-0.006111   1st Qu.:-0.004486   1st Qu.:-0.0092394  \n",
              " Median : 0.001545   Median : 0.001641   Median : 0.0001455  \n",
              " Mean   : 0.001250   Mean   : 0.001694   Mean   : 0.0001674  \n",
              " 3rd Qu.: 0.008852   3rd Qu.: 0.008035   3rd Qu.: 0.0074387  \n",
              " Max.   : 0.053551   Max.   : 0.067564   Max.   : 0.0588583  "
            ]
          },
          "metadata": {}
        }
      ]
    },
    {
      "cell_type": "code",
      "source": [
        "best_ticker"
      ],
      "metadata": {
        "colab": {
          "base_uri": "https://localhost:8080/",
          "height": 34
        },
        "id": "tTMLLeqn6V2I",
        "outputId": "737058ad-4cd1-4b71-8212-6e4b3884afaf"
      },
      "execution_count": null,
      "outputs": [
        {
          "output_type": "display_data",
          "data": {
            "text/html": [
              "<style>\n",
              ".list-inline {list-style: none; margin:0; padding: 0}\n",
              ".list-inline>li {display: inline-block}\n",
              ".list-inline>li:not(:last-child)::after {content: \"\\00b7\"; padding: 0 .5ex}\n",
              "</style>\n",
              "<ol class=list-inline><li>'AVB'</li><li>'EQR'</li><li>'FRT'</li><li>'O'</li><li>'REG'</li><li>'UDR'</li><li>'VICI'</li><li>'WELL'</li></ol>\n"
            ],
            "text/markdown": "1. 'AVB'\n2. 'EQR'\n3. 'FRT'\n4. 'O'\n5. 'REG'\n6. 'UDR'\n7. 'VICI'\n8. 'WELL'\n\n\n",
            "text/latex": "\\begin{enumerate*}\n\\item 'AVB'\n\\item 'EQR'\n\\item 'FRT'\n\\item 'O'\n\\item 'REG'\n\\item 'UDR'\n\\item 'VICI'\n\\item 'WELL'\n\\end{enumerate*}\n",
            "text/plain": [
              "[1] \"AVB\"  \"EQR\"  \"FRT\"  \"O\"    \"REG\"  \"UDR\"  \"VICI\" \"WELL\""
            ]
          },
          "metadata": {}
        }
      ]
    },
    {
      "cell_type": "code",
      "source": [
        "# Select specific columns from data_saham\n",
        "best_ticker <- c(\"AVB\", \"EQR\", \"FRT\", \"O\", \"REG\", \"UDR\", \"VICI\", \"WELL\")\n",
        "data_saham_subset <- data_saham[, best_ticker]\n",
        "\n",
        "# Print the subset\n",
        "head(data_saham_subset)"
      ],
      "metadata": {
        "colab": {
          "base_uri": "https://localhost:8080/",
          "height": 306
        },
        "id": "B828AfAP5cAf",
        "outputId": "0b76109e-c833-4422-9806-a6075a749fde"
      },
      "execution_count": null,
      "outputs": [
        {
          "output_type": "display_data",
          "data": {
            "text/html": [
              "<table class=\"dataframe\">\n",
              "<caption>A data.frame: 6 × 8</caption>\n",
              "<thead>\n",
              "\t<tr><th></th><th scope=col>AVB</th><th scope=col>EQR</th><th scope=col>FRT</th><th scope=col>O</th><th scope=col>REG</th><th scope=col>UDR</th><th scope=col>VICI</th><th scope=col>WELL</th></tr>\n",
              "\t<tr><th></th><th scope=col>&lt;dbl&gt;</th><th scope=col>&lt;dbl&gt;</th><th scope=col>&lt;dbl&gt;</th><th scope=col>&lt;dbl&gt;</th><th scope=col>&lt;dbl&gt;</th><th scope=col>&lt;dbl&gt;</th><th scope=col>&lt;dbl&gt;</th><th scope=col>&lt;dbl&gt;</th></tr>\n",
              "</thead>\n",
              "<tbody>\n",
              "\t<tr><th scope=row>1</th><td>-0.011202453</td><td>-0.0075253228</td><td>-0.0013022128</td><td>-0.0110458405</td><td>-0.008945071</td><td>-0.002024527</td><td>-0.0095379724</td><td> 0.0006676936</td></tr>\n",
              "\t<tr><th scope=row>2</th><td>-0.004390477</td><td> 0.0003433008</td><td>-0.0072426215</td><td>-0.0038311583</td><td>-0.012157316</td><td> 0.003756630</td><td>-0.0006610602</td><td>-0.0277513077</td></tr>\n",
              "\t<tr><th scope=row>3</th><td> 0.002226274</td><td> 0.0073524003</td><td>-0.0004039502</td><td>-0.0003655862</td><td>-0.004715506</td><td> 0.009473245</td><td> 0.0062633585</td><td> 0.0010291184</td></tr>\n",
              "\t<tr><th scope=row>4</th><td> 0.002107343</td><td> 0.0020422104</td><td> 0.0011103503</td><td>-0.0152925991</td><td> 0.007690481</td><td> 0.010515999</td><td> 0.0026254810</td><td> 0.0023967203</td></tr>\n",
              "\t<tr><th scope=row>5</th><td>-0.001936414</td><td>-0.0111122944</td><td> 0.0020156437</td><td> 0.0097921875</td><td> 0.005768268</td><td>-0.011087477</td><td> 0.0091355060</td><td> 0.0039819902</td></tr>\n",
              "\t<tr><th scope=row>6</th><td>-0.003311984</td><td> 0.0001719694</td><td> 0.0001007277</td><td> 0.0016533322</td><td>-0.001244382</td><td> 0.013346727</td><td>-0.0019506277</td><td> 0.0059999571</td></tr>\n",
              "</tbody>\n",
              "</table>\n"
            ],
            "text/markdown": "\nA data.frame: 6 × 8\n\n| <!--/--> | AVB &lt;dbl&gt; | EQR &lt;dbl&gt; | FRT &lt;dbl&gt; | O &lt;dbl&gt; | REG &lt;dbl&gt; | UDR &lt;dbl&gt; | VICI &lt;dbl&gt; | WELL &lt;dbl&gt; |\n|---|---|---|---|---|---|---|---|---|\n| 1 | -0.011202453 | -0.0075253228 | -0.0013022128 | -0.0110458405 | -0.008945071 | -0.002024527 | -0.0095379724 |  0.0006676936 |\n| 2 | -0.004390477 |  0.0003433008 | -0.0072426215 | -0.0038311583 | -0.012157316 |  0.003756630 | -0.0006610602 | -0.0277513077 |\n| 3 |  0.002226274 |  0.0073524003 | -0.0004039502 | -0.0003655862 | -0.004715506 |  0.009473245 |  0.0062633585 |  0.0010291184 |\n| 4 |  0.002107343 |  0.0020422104 |  0.0011103503 | -0.0152925991 |  0.007690481 |  0.010515999 |  0.0026254810 |  0.0023967203 |\n| 5 | -0.001936414 | -0.0111122944 |  0.0020156437 |  0.0097921875 |  0.005768268 | -0.011087477 |  0.0091355060 |  0.0039819902 |\n| 6 | -0.003311984 |  0.0001719694 |  0.0001007277 |  0.0016533322 | -0.001244382 |  0.013346727 | -0.0019506277 |  0.0059999571 |\n\n",
            "text/latex": "A data.frame: 6 × 8\n\\begin{tabular}{r|llllllll}\n  & AVB & EQR & FRT & O & REG & UDR & VICI & WELL\\\\\n  & <dbl> & <dbl> & <dbl> & <dbl> & <dbl> & <dbl> & <dbl> & <dbl>\\\\\n\\hline\n\t1 & -0.011202453 & -0.0075253228 & -0.0013022128 & -0.0110458405 & -0.008945071 & -0.002024527 & -0.0095379724 &  0.0006676936\\\\\n\t2 & -0.004390477 &  0.0003433008 & -0.0072426215 & -0.0038311583 & -0.012157316 &  0.003756630 & -0.0006610602 & -0.0277513077\\\\\n\t3 &  0.002226274 &  0.0073524003 & -0.0004039502 & -0.0003655862 & -0.004715506 &  0.009473245 &  0.0062633585 &  0.0010291184\\\\\n\t4 &  0.002107343 &  0.0020422104 &  0.0011103503 & -0.0152925991 &  0.007690481 &  0.010515999 &  0.0026254810 &  0.0023967203\\\\\n\t5 & -0.001936414 & -0.0111122944 &  0.0020156437 &  0.0097921875 &  0.005768268 & -0.011087477 &  0.0091355060 &  0.0039819902\\\\\n\t6 & -0.003311984 &  0.0001719694 &  0.0001007277 &  0.0016533322 & -0.001244382 &  0.013346727 & -0.0019506277 &  0.0059999571\\\\\n\\end{tabular}\n",
            "text/plain": [
              "  AVB          EQR           FRT           O             REG         \n",
              "1 -0.011202453 -0.0075253228 -0.0013022128 -0.0110458405 -0.008945071\n",
              "2 -0.004390477  0.0003433008 -0.0072426215 -0.0038311583 -0.012157316\n",
              "3  0.002226274  0.0073524003 -0.0004039502 -0.0003655862 -0.004715506\n",
              "4  0.002107343  0.0020422104  0.0011103503 -0.0152925991  0.007690481\n",
              "5 -0.001936414 -0.0111122944  0.0020156437  0.0097921875  0.005768268\n",
              "6 -0.003311984  0.0001719694  0.0001007277  0.0016533322 -0.001244382\n",
              "  UDR          VICI          WELL         \n",
              "1 -0.002024527 -0.0095379724  0.0006676936\n",
              "2  0.003756630 -0.0006610602 -0.0277513077\n",
              "3  0.009473245  0.0062633585  0.0010291184\n",
              "4  0.010515999  0.0026254810  0.0023967203\n",
              "5 -0.011087477  0.0091355060  0.0039819902\n",
              "6  0.013346727 -0.0019506277  0.0059999571"
            ]
          },
          "metadata": {}
        }
      ]
    },
    {
      "cell_type": "code",
      "source": [
        "# Menampilkan rata-rata return per saham\n",
        "mean_returns <- colMeans(data_saham_subset)\n",
        "cat(\"Rata-rata Return Saham:\\n\")\n",
        "print(mean_returns)\n",
        "\n",
        "# Matriks kovarians return\n",
        "cov_matrix <- cov(data_saham_subset)\n",
        "cat(\"\\nMatriks Kovarians:\\n\")\n",
        "print(cov_matrix)"
      ],
      "metadata": {
        "colab": {
          "base_uri": "https://localhost:8080/"
        },
        "id": "WbEkhSRM7wTu",
        "outputId": "f5c750c7-53bb-478e-c179-89081c17a4e0"
      },
      "execution_count": null,
      "outputs": [
        {
          "output_type": "stream",
          "name": "stdout",
          "text": [
            "Rata-rata Return Saham:\n",
            "         AVB          EQR          FRT            O          REG          UDR \n",
            "0.0011811219 0.0011532421 0.0007030004 0.0003048780 0.0007106972 0.0012464397 \n",
            "        VICI         WELL \n",
            "0.0004329239 0.0016943330 \n",
            "\n",
            "Matriks Kovarians:\n",
            "              AVB          EQR          FRT            O          REG\n",
            "AVB  1.442596e-04 1.330573e-04 8.981427e-05 7.624920e-05 8.728978e-05\n",
            "EQR  1.330573e-04 1.505271e-04 8.472428e-05 8.065378e-05 7.998404e-05\n",
            "FRT  8.981427e-05 8.472428e-05 1.296372e-04 8.082747e-05 1.081014e-04\n",
            "O    7.624920e-05 8.065378e-05 8.082747e-05 1.240029e-04 7.964554e-05\n",
            "REG  8.728978e-05 7.998404e-05 1.081014e-04 7.964554e-05 1.247363e-04\n",
            "UDR  1.275368e-04 1.320769e-04 8.892694e-05 8.085628e-05 8.511784e-05\n",
            "VICI 7.208823e-05 7.749765e-05 8.479882e-05 9.332451e-05 8.192996e-05\n",
            "WELL 7.710629e-05 7.826768e-05 6.907150e-05 5.976097e-05 7.346586e-05\n",
            "              UDR         VICI         WELL\n",
            "AVB  1.275368e-04 7.208823e-05 7.710629e-05\n",
            "EQR  1.320769e-04 7.749765e-05 7.826768e-05\n",
            "FRT  8.892694e-05 8.479882e-05 6.907150e-05\n",
            "O    8.085628e-05 9.332451e-05 5.976097e-05\n",
            "REG  8.511784e-05 8.192996e-05 7.346586e-05\n",
            "UDR  1.490632e-04 7.481700e-05 7.249870e-05\n",
            "VICI 7.481700e-05 1.333745e-04 6.184294e-05\n",
            "WELL 7.249870e-05 6.184294e-05 1.357584e-04\n"
          ]
        }
      ]
    },
    {
      "cell_type": "code",
      "source": [
        "# Fungsi GA (Genetic Algorithm)\n",
        "Rf <- 0.06 / 365 # suku bunga acuan 6%\n",
        "GA.S <- function(x, y, z){\n",
        "  fungsi <- function(x){\n",
        "    ((t(x) %*% y) - Rf) / sqrt(t(x) %*% z %*% x)\n",
        "  }\n",
        "  gaControl(\"real-valued\" = list(selection = \"ga_tourSelection\",\n",
        "                                 crossover = \"gabin_uCrossover\",\n",
        "                                 mutation = 'gareal_raMutatioon'))\n",
        "  Genal <- ga(type = \"real-valued\", fitness = fungsi, lower = rep(0, ncol(x)),\n",
        "              upper = rep(1, ncol(x)), population = gaControl(\"real-valued\")$population,\n",
        "              selection = gaControl(\"real-valued\")$selection,\n",
        "              crossover = gaControl(\"binary\")$crossover,\n",
        "              mutation = gaControl(\"real-valued\")$mutation,\n",
        "              popSize = 50, pcrossover = 0.8, pmutation = 0.1, elitism = 3,\n",
        "              maxiter = 500, run = 100 ,monitor = TRUE, seed = 123)\n",
        "  print(summary(Genal))\n",
        "  cat(\"\\nSolusi yang diperoleh dengan menggunakan GA adalah:\\n\")\n",
        "  print(Genal@solution)\n",
        "}\n",
        "\n",
        "# Fungsi untuk menghitung bobot portofolio\n",
        "bobot <- function(x){\n",
        "  drop(x / sum(x))\n",
        "}\n",
        "\n",
        "# Menghitung bobot portofolio menggunakan GA\n",
        "GAs_normal <- GA.S(data_saham_subset, mean_returns, cov_matrix)\n",
        "wga_normal <- bobot(GAs_normal)\n",
        "cat(\"\\nBobot Portofolio yang Diperoleh:\\n\")\n",
        "print(wga_normal)\n"
      ],
      "metadata": {
        "colab": {
          "base_uri": "https://localhost:8080/"
        },
        "id": "1d20XUKkf_0P",
        "outputId": "73d67f67-71e6-49f8-d246-468455a711ed"
      },
      "execution_count": null,
      "outputs": [
        {
          "output_type": "stream",
          "name": "stdout",
          "text": [
            "GA | iter = 1 | Mean = 0.09028684 | Best = 0.10998176\n",
            "GA | iter = 2 | Mean = 0.09642408 | Best = 0.10998176\n",
            "GA | iter = 3 | Mean = 0.1003594 | Best = 0.1160594\n",
            "GA | iter = 4 | Mean = 0.1038002 | Best = 0.1170443\n",
            "GA | iter = 5 | Mean = 0.1068314 | Best = 0.1183860\n",
            "GA | iter = 6 | Mean = 0.111330 | Best = 0.118386\n",
            "GA | iter = 7 | Mean = 0.1133629 | Best = 0.1203758\n",
            "GA | iter = 8 | Mean = 0.1151254 | Best = 0.1203758\n",
            "GA | iter = 9 | Mean = 0.1151889 | Best = 0.1205407\n",
            "GA | iter = 10 | Mean = 0.1159087 | Best = 0.1219662\n",
            "GA | iter = 11 | Mean = 0.1177529 | Best = 0.1219662\n",
            "GA | iter = 12 | Mean = 0.1177750 | Best = 0.1219662\n",
            "GA | iter = 13 | Mean = 0.1187707 | Best = 0.1222317\n",
            "GA | iter = 14 | Mean = 0.1194422 | Best = 0.1224087\n",
            "GA | iter = 15 | Mean = 0.1197664 | Best = 0.1236817\n",
            "GA | iter = 16 | Mean = 0.1194574 | Best = 0.1236817\n",
            "GA | iter = 17 | Mean = 0.1202074 | Best = 0.1236817\n",
            "GA | iter = 18 | Mean = 0.1202637 | Best = 0.1236817\n",
            "GA | iter = 19 | Mean = 0.1212044 | Best = 0.1254743\n",
            "GA | iter = 20 | Mean = 0.1221301 | Best = 0.1256439\n",
            "GA | iter = 21 | Mean = 0.1225878 | Best = 0.1256439\n",
            "GA | iter = 22 | Mean = 0.1227717 | Best = 0.1256439\n",
            "GA | iter = 23 | Mean = 0.1232873 | Best = 0.1257935\n",
            "GA | iter = 24 | Mean = 0.1240454 | Best = 0.1257935\n",
            "GA | iter = 25 | Mean = 0.1236330 | Best = 0.1259564\n",
            "GA | iter = 26 | Mean = 0.1249471 | Best = 0.1259564\n",
            "GA | iter = 27 | Mean = 0.1242163 | Best = 0.1259564\n",
            "GA | iter = 28 | Mean = 0.1254877 | Best = 0.1259564\n",
            "GA | iter = 29 | Mean = 0.1247760 | Best = 0.1259564\n",
            "GA | iter = 30 | Mean = 0.1254880 | Best = 0.1259564\n",
            "GA | iter = 31 | Mean = 0.1254903 | Best = 0.1261252\n",
            "GA | iter = 32 | Mean = 0.1251841 | Best = 0.1261252\n",
            "GA | iter = 33 | Mean = 0.124539 | Best = 0.126581\n",
            "GA | iter = 34 | Mean = 0.1252595 | Best = 0.1281716\n",
            "GA | iter = 35 | Mean = 0.1250468 | Best = 0.1281716\n",
            "GA | iter = 36 | Mean = 0.1259477 | Best = 0.1281716\n",
            "GA | iter = 37 | Mean = 0.1260480 | Best = 0.1283887\n",
            "GA | iter = 38 | Mean = 0.1259591 | Best = 0.1285489\n",
            "GA | iter = 39 | Mean = 0.1262660 | Best = 0.1294532\n",
            "GA | iter = 40 | Mean = 0.1261073 | Best = 0.1294532\n",
            "GA | iter = 41 | Mean = 0.1270999 | Best = 0.1295945\n",
            "GA | iter = 42 | Mean = 0.1273694 | Best = 0.1296688\n",
            "GA | iter = 43 | Mean = 0.1277743 | Best = 0.1296688\n",
            "GA | iter = 44 | Mean = 0.1285401 | Best = 0.1302452\n",
            "GA | iter = 45 | Mean = 0.1283787 | Best = 0.1311757\n",
            "GA | iter = 46 | Mean = 0.1279732 | Best = 0.1321350\n",
            "GA | iter = 47 | Mean = 0.1273425 | Best = 0.1321350\n",
            "GA | iter = 48 | Mean = 0.1285795 | Best = 0.1321350\n",
            "GA | iter = 49 | Mean = 0.1287951 | Best = 0.1321350\n",
            "GA | iter = 50 | Mean = 0.1288921 | Best = 0.1321350\n",
            "GA | iter = 51 | Mean = 0.129670 | Best = 0.132135\n",
            "GA | iter = 52 | Mean = 0.1297642 | Best = 0.1321350\n",
            "GA | iter = 53 | Mean = 0.129998 | Best = 0.132135\n",
            "GA | iter = 54 | Mean = 0.1292479 | Best = 0.1321350\n",
            "GA | iter = 55 | Mean = 0.1295964 | Best = 0.1321350\n",
            "GA | iter = 56 | Mean = 0.1287203 | Best = 0.1321350\n",
            "GA | iter = 57 | Mean = 0.1301195 | Best = 0.1321350\n",
            "GA | iter = 58 | Mean = 0.1296769 | Best = 0.1323851\n",
            "GA | iter = 59 | Mean = 0.1305743 | Best = 0.1323851\n",
            "GA | iter = 60 | Mean = 0.1296635 | Best = 0.1323851\n",
            "GA | iter = 61 | Mean = 0.1315556 | Best = 0.1324038\n",
            "GA | iter = 62 | Mean = 0.1312499 | Best = 0.1324038\n",
            "GA | iter = 63 | Mean = 0.1307816 | Best = 0.1324038\n",
            "GA | iter = 64 | Mean = 0.1314645 | Best = 0.1324038\n",
            "GA | iter = 65 | Mean = 0.1307216 | Best = 0.1324038\n",
            "GA | iter = 66 | Mean = 0.1306125 | Best = 0.1324038\n",
            "GA | iter = 67 | Mean = 0.1298169 | Best = 0.1326150\n",
            "GA | iter = 68 | Mean = 0.1309229 | Best = 0.1326150\n",
            "GA | iter = 69 | Mean = 0.131488 | Best = 0.132615\n",
            "GA | iter = 70 | Mean = 0.1308264 | Best = 0.1326150\n",
            "GA | iter = 71 | Mean = 0.1316433 | Best = 0.1326150\n",
            "GA | iter = 72 | Mean = 0.1315347 | Best = 0.1326150\n",
            "GA | iter = 73 | Mean = 0.1315365 | Best = 0.1326150\n",
            "GA | iter = 74 | Mean = 0.1310473 | Best = 0.1326150\n",
            "GA | iter = 75 | Mean = 0.1313612 | Best = 0.1326150\n",
            "GA | iter = 76 | Mean = 0.1313451 | Best = 0.1326150\n",
            "GA | iter = 77 | Mean = 0.1318933 | Best = 0.1327501\n",
            "GA | iter = 78 | Mean = 0.1324495 | Best = 0.1327501\n",
            "GA | iter = 79 | Mean = 0.1319389 | Best = 0.1327501\n",
            "GA | iter = 80 | Mean = 0.1313958 | Best = 0.1327501\n",
            "GA | iter = 81 | Mean = 0.1315139 | Best = 0.1327501\n",
            "GA | iter = 82 | Mean = 0.1318664 | Best = 0.1327501\n",
            "GA | iter = 83 | Mean = 0.1310843 | Best = 0.1327501\n",
            "GA | iter = 84 | Mean = 0.1311945 | Best = 0.1327501\n",
            "GA | iter = 85 | Mean = 0.1310934 | Best = 0.1327501\n",
            "GA | iter = 86 | Mean = 0.1308075 | Best = 0.1327501\n",
            "GA | iter = 87 | Mean = 0.1316819 | Best = 0.1327501\n",
            "GA | iter = 88 | Mean = 0.1314081 | Best = 0.1327501\n",
            "GA | iter = 89 | Mean = 0.1313164 | Best = 0.1327501\n",
            "GA | iter = 90 | Mean = 0.1315145 | Best = 0.1327501\n",
            "GA | iter = 91 | Mean = 0.1322699 | Best = 0.1327501\n",
            "GA | iter = 92 | Mean = 0.1319448 | Best = 0.1327501\n",
            "GA | iter = 93 | Mean = 0.1326725 | Best = 0.1327501\n",
            "GA | iter = 94 | Mean = 0.1312867 | Best = 0.1327501\n",
            "GA | iter = 95 | Mean = 0.1322331 | Best = 0.1327501\n",
            "GA | iter = 96 | Mean = 0.1320969 | Best = 0.1327501\n",
            "GA | iter = 97 | Mean = 0.1321445 | Best = 0.1327501\n",
            "GA | iter = 98 | Mean = 0.1313030 | Best = 0.1327501\n",
            "GA | iter = 99 | Mean = 0.1315779 | Best = 0.1327501\n",
            "GA | iter = 100 | Mean = 0.1324931 | Best = 0.1327501\n",
            "GA | iter = 101 | Mean = 0.1314507 | Best = 0.1327501\n",
            "GA | iter = 102 | Mean = 0.1316706 | Best = 0.1327501\n",
            "GA | iter = 103 | Mean = 0.1324640 | Best = 0.1327501\n",
            "GA | iter = 104 | Mean = 0.1319328 | Best = 0.1327503\n",
            "GA | iter = 105 | Mean = 0.1301932 | Best = 0.1328903\n",
            "GA | iter = 106 | Mean = 0.1311973 | Best = 0.1328903\n",
            "GA | iter = 107 | Mean = 0.1308942 | Best = 0.1328904\n",
            "GA | iter = 108 | Mean = 0.1320530 | Best = 0.1328904\n",
            "GA | iter = 109 | Mean = 0.1317935 | Best = 0.1328904\n",
            "GA | iter = 110 | Mean = 0.1317330 | Best = 0.1328904\n",
            "GA | iter = 111 | Mean = 0.1322806 | Best = 0.1328906\n",
            "GA | iter = 112 | Mean = 0.1314730 | Best = 0.1328906\n",
            "GA | iter = 113 | Mean = 0.1307709 | Best = 0.1328906\n",
            "GA | iter = 114 | Mean = 0.1311633 | Best = 0.1339642\n",
            "GA | iter = 115 | Mean = 0.1317499 | Best = 0.1339642\n",
            "GA | iter = 116 | Mean = 0.1324490 | Best = 0.1339642\n",
            "GA | iter = 117 | Mean = 0.1324884 | Best = 0.1339679\n",
            "GA | iter = 118 | Mean = 0.1321613 | Best = 0.1339679\n",
            "GA | iter = 119 | Mean = 0.1325436 | Best = 0.1339786\n",
            "GA | iter = 120 | Mean = 0.1319131 | Best = 0.1339786\n",
            "GA | iter = 121 | Mean = 0.1315278 | Best = 0.1342221\n",
            "GA | iter = 122 | Mean = 0.1318724 | Best = 0.1342221\n",
            "GA | iter = 123 | Mean = 0.1327386 | Best = 0.1342221\n",
            "GA | iter = 124 | Mean = 0.1323962 | Best = 0.1342221\n",
            "GA | iter = 125 | Mean = 0.1326302 | Best = 0.1342221\n",
            "GA | iter = 126 | Mean = 0.1315407 | Best = 0.1342352\n",
            "GA | iter = 127 | Mean = 0.1319037 | Best = 0.1342352\n",
            "GA | iter = 128 | Mean = 0.1325481 | Best = 0.1342352\n",
            "GA | iter = 129 | Mean = 0.1322746 | Best = 0.1342352\n",
            "GA | iter = 130 | Mean = 0.1325891 | Best = 0.1342352\n",
            "GA | iter = 131 | Mean = 0.1319746 | Best = 0.1342352\n",
            "GA | iter = 132 | Mean = 0.1329983 | Best = 0.1342352\n",
            "GA | iter = 133 | Mean = 0.1331165 | Best = 0.1342352\n",
            "GA | iter = 134 | Mean = 0.1334350 | Best = 0.1342352\n",
            "GA | iter = 135 | Mean = 0.1324378 | Best = 0.1342352\n",
            "GA | iter = 136 | Mean = 0.1336420 | Best = 0.1342352\n",
            "GA | iter = 137 | Mean = 0.1320399 | Best = 0.1342352\n",
            "GA | iter = 138 | Mean = 0.1330377 | Best = 0.1342352\n",
            "GA | iter = 139 | Mean = 0.1330168 | Best = 0.1342352\n",
            "GA | iter = 140 | Mean = 0.1329691 | Best = 0.1342352\n",
            "GA | iter = 141 | Mean = 0.1327843 | Best = 0.1342352\n",
            "GA | iter = 142 | Mean = 0.1319332 | Best = 0.1342352\n",
            "GA | iter = 143 | Mean = 0.1327983 | Best = 0.1342352\n",
            "GA | iter = 144 | Mean = 0.1328313 | Best = 0.1342352\n",
            "GA | iter = 145 | Mean = 0.1322983 | Best = 0.1342352\n",
            "GA | iter = 146 | Mean = 0.1328768 | Best = 0.1342352\n",
            "GA | iter = 147 | Mean = 0.1338347 | Best = 0.1342352\n",
            "GA | iter = 148 | Mean = 0.1328033 | Best = 0.1342500\n",
            "GA | iter = 149 | Mean = 0.1325488 | Best = 0.1342500\n",
            "GA | iter = 150 | Mean = 0.1321329 | Best = 0.1342500\n",
            "GA | iter = 151 | Mean = 0.133515 | Best = 0.134250\n",
            "GA | iter = 152 | Mean = 0.132693 | Best = 0.134250\n",
            "GA | iter = 153 | Mean = 0.1325904 | Best = 0.1342500\n",
            "GA | iter = 154 | Mean = 0.1326575 | Best = 0.1348481\n",
            "GA | iter = 155 | Mean = 0.1328510 | Best = 0.1348481\n",
            "GA | iter = 156 | Mean = 0.1330208 | Best = 0.1348481\n",
            "GA | iter = 157 | Mean = 0.1321462 | Best = 0.1348613\n",
            "GA | iter = 158 | Mean = 0.1319506 | Best = 0.1348613\n",
            "GA | iter = 159 | Mean = 0.1322263 | Best = 0.1348613\n",
            "GA | iter = 160 | Mean = 0.1333942 | Best = 0.1348613\n",
            "GA | iter = 161 | Mean = 0.1321695 | Best = 0.1348645\n",
            "GA | iter = 162 | Mean = 0.1316719 | Best = 0.1349083\n",
            "GA | iter = 163 | Mean = 0.1337355 | Best = 0.1349083\n",
            "GA | iter = 164 | Mean = 0.1339299 | Best = 0.1349083\n",
            "GA | iter = 165 | Mean = 0.1326649 | Best = 0.1349083\n",
            "GA | iter = 166 | Mean = 0.1332767 | Best = 0.1349083\n",
            "GA | iter = 167 | Mean = 0.1340468 | Best = 0.1349248\n",
            "GA | iter = 168 | Mean = 0.1337355 | Best = 0.1349248\n",
            "GA | iter = 169 | Mean = 0.1333502 | Best = 0.1349248\n",
            "GA | iter = 170 | Mean = 0.1341519 | Best = 0.1352376\n",
            "GA | iter = 171 | Mean = 0.1338059 | Best = 0.1355214\n",
            "GA | iter = 172 | Mean = 0.1344632 | Best = 0.1355394\n",
            "GA | iter = 173 | Mean = 0.1336161 | Best = 0.1355394\n",
            "GA | iter = 174 | Mean = 0.1350026 | Best = 0.1355394\n",
            "GA | iter = 175 | Mean = 0.1339690 | Best = 0.1355394\n",
            "GA | iter = 176 | Mean = 0.1317907 | Best = 0.1355394\n",
            "GA | iter = 177 | Mean = 0.1338741 | Best = 0.1355394\n",
            "GA | iter = 178 | Mean = 0.1333361 | Best = 0.1355394\n",
            "GA | iter = 179 | Mean = 0.1329876 | Best = 0.1355394\n",
            "GA | iter = 180 | Mean = 0.1340504 | Best = 0.1355394\n",
            "GA | iter = 181 | Mean = 0.1341172 | Best = 0.1355394\n",
            "GA | iter = 182 | Mean = 0.1333875 | Best = 0.1355394\n",
            "GA | iter = 183 | Mean = 0.1343988 | Best = 0.1355394\n",
            "GA | iter = 184 | Mean = 0.1339322 | Best = 0.1355394\n",
            "GA | iter = 185 | Mean = 0.1346538 | Best = 0.1355394\n",
            "GA | iter = 186 | Mean = 0.1342096 | Best = 0.1355394\n",
            "GA | iter = 187 | Mean = 0.1348335 | Best = 0.1355394\n",
            "GA | iter = 188 | Mean = 0.1335267 | Best = 0.1355394\n",
            "GA | iter = 189 | Mean = 0.1344613 | Best = 0.1355394\n",
            "GA | iter = 190 | Mean = 0.1332125 | Best = 0.1355394\n",
            "GA | iter = 191 | Mean = 0.1334276 | Best = 0.1355394\n",
            "GA | iter = 192 | Mean = 0.1354951 | Best = 0.1355394\n",
            "GA | iter = 193 | Mean = 0.1349710 | Best = 0.1355394\n",
            "GA | iter = 194 | Mean = 0.1348880 | Best = 0.1355401\n",
            "GA | iter = 195 | Mean = 0.1353434 | Best = 0.1355401\n",
            "GA | iter = 196 | Mean = 0.1337094 | Best = 0.1355401\n",
            "GA | iter = 197 | Mean = 0.1349351 | Best = 0.1355401\n",
            "GA | iter = 198 | Mean = 0.1330721 | Best = 0.1355401\n",
            "GA | iter = 199 | Mean = 0.1346723 | Best = 0.1355401\n",
            "GA | iter = 200 | Mean = 0.1352567 | Best = 0.1355401\n",
            "GA | iter = 201 | Mean = 0.1346975 | Best = 0.1355401\n",
            "GA | iter = 202 | Mean = 0.1331258 | Best = 0.1355401\n",
            "GA | iter = 203 | Mean = 0.1339517 | Best = 0.1355401\n",
            "GA | iter = 204 | Mean = 0.1344698 | Best = 0.1355401\n",
            "GA | iter = 205 | Mean = 0.1340456 | Best = 0.1355401\n",
            "GA | iter = 206 | Mean = 0.1335568 | Best = 0.1355401\n",
            "GA | iter = 207 | Mean = 0.1334373 | Best = 0.1355401\n",
            "GA | iter = 208 | Mean = 0.1336992 | Best = 0.1355401\n",
            "GA | iter = 209 | Mean = 0.1344075 | Best = 0.1355401\n",
            "GA | iter = 210 | Mean = 0.1351153 | Best = 0.1355401\n",
            "GA | iter = 211 | Mean = 0.1351971 | Best = 0.1355401\n",
            "GA | iter = 212 | Mean = 0.1351331 | Best = 0.1355401\n",
            "GA | iter = 213 | Mean = 0.1332512 | Best = 0.1355401\n",
            "GA | iter = 214 | Mean = 0.1348173 | Best = 0.1355401\n",
            "GA | iter = 215 | Mean = 0.1329688 | Best = 0.1355401\n",
            "GA | iter = 216 | Mean = 0.1321397 | Best = 0.1355401\n",
            "GA | iter = 217 | Mean = 0.1334943 | Best = 0.1355401\n",
            "GA | iter = 218 | Mean = 0.1333421 | Best = 0.1355401\n",
            "GA | iter = 219 | Mean = 0.1348459 | Best = 0.1355401\n",
            "GA | iter = 220 | Mean = 0.1330282 | Best = 0.1355401\n",
            "GA | iter = 221 | Mean = 0.1342340 | Best = 0.1355401\n",
            "GA | iter = 222 | Mean = 0.1338467 | Best = 0.1355401\n",
            "GA | iter = 223 | Mean = 0.1347280 | Best = 0.1355401\n",
            "GA | iter = 224 | Mean = 0.1345712 | Best = 0.1355401\n",
            "GA | iter = 225 | Mean = 0.1346794 | Best = 0.1355401\n",
            "GA | iter = 226 | Mean = 0.1318504 | Best = 0.1355401\n",
            "GA | iter = 227 | Mean = 0.1346467 | Best = 0.1355401\n",
            "GA | iter = 228 | Mean = 0.1339273 | Best = 0.1355401\n",
            "GA | iter = 229 | Mean = 0.1342837 | Best = 0.1355876\n",
            "GA | iter = 230 | Mean = 0.1347772 | Best = 0.1355876\n",
            "GA | iter = 231 | Mean = 0.1354474 | Best = 0.1355876\n",
            "GA | iter = 232 | Mean = 0.1354583 | Best = 0.1355876\n",
            "GA | iter = 233 | Mean = 0.1343469 | Best = 0.1355876\n",
            "GA | iter = 234 | Mean = 0.1350303 | Best = 0.1355876\n",
            "GA | iter = 235 | Mean = 0.1352985 | Best = 0.1355876\n",
            "GA | iter = 236 | Mean = 0.1348657 | Best = 0.1355876\n",
            "GA | iter = 237 | Mean = 0.1334019 | Best = 0.1355947\n",
            "GA | iter = 238 | Mean = 0.1333220 | Best = 0.1355947\n",
            "GA | iter = 239 | Mean = 0.1336372 | Best = 0.1369986\n",
            "GA | iter = 240 | Mean = 0.1341902 | Best = 0.1369986\n",
            "GA | iter = 241 | Mean = 0.1340669 | Best = 0.1369986\n",
            "GA | iter = 242 | Mean = 0.1346137 | Best = 0.1369986\n",
            "GA | iter = 243 | Mean = 0.1352706 | Best = 0.1370474\n",
            "GA | iter = 244 | Mean = 0.1351181 | Best = 0.1370474\n",
            "GA | iter = 245 | Mean = 0.1346203 | Best = 0.1370474\n",
            "GA | iter = 246 | Mean = 0.1344761 | Best = 0.1370474\n",
            "GA | iter = 247 | Mean = 0.1349625 | Best = 0.1370474\n",
            "GA | iter = 248 | Mean = 0.1334896 | Best = 0.1370474\n",
            "GA | iter = 249 | Mean = 0.1343742 | Best = 0.1370474\n",
            "GA | iter = 250 | Mean = 0.1335698 | Best = 0.1370474\n",
            "GA | iter = 251 | Mean = 0.1351804 | Best = 0.1370474\n",
            "GA | iter = 252 | Mean = 0.1344506 | Best = 0.1370474\n",
            "GA | iter = 253 | Mean = 0.1354621 | Best = 0.1370474\n",
            "GA | iter = 254 | Mean = 0.1346253 | Best = 0.1370474\n",
            "GA | iter = 255 | Mean = 0.1341924 | Best = 0.1370474\n",
            "GA | iter = 256 | Mean = 0.1354356 | Best = 0.1370474\n",
            "GA | iter = 257 | Mean = 0.1355152 | Best = 0.1370474\n",
            "GA | iter = 258 | Mean = 0.1352541 | Best = 0.1370474\n",
            "GA | iter = 259 | Mean = 0.1341614 | Best = 0.1370474\n",
            "GA | iter = 260 | Mean = 0.1358828 | Best = 0.1370474\n",
            "GA | iter = 261 | Mean = 0.1354472 | Best = 0.1370474\n",
            "GA | iter = 262 | Mean = 0.1359441 | Best = 0.1370474\n",
            "GA | iter = 263 | Mean = 0.1355062 | Best = 0.1370474\n",
            "GA | iter = 264 | Mean = 0.1361020 | Best = 0.1370474\n",
            "GA | iter = 265 | Mean = 0.1356322 | Best = 0.1370474\n",
            "GA | iter = 266 | Mean = 0.1355928 | Best = 0.1370474\n",
            "GA | iter = 267 | Mean = 0.1356001 | Best = 0.1370474\n",
            "GA | iter = 268 | Mean = 0.1356156 | Best = 0.1370474\n",
            "GA | iter = 269 | Mean = 0.1360863 | Best = 0.1370528\n",
            "GA | iter = 270 | Mean = 0.1349608 | Best = 0.1370528\n",
            "GA | iter = 271 | Mean = 0.1361595 | Best = 0.1370528\n",
            "GA | iter = 272 | Mean = 0.1367071 | Best = 0.1370528\n",
            "GA | iter = 273 | Mean = 0.1354753 | Best = 0.1370528\n",
            "GA | iter = 274 | Mean = 0.1357400 | Best = 0.1370528\n",
            "GA | iter = 275 | Mean = 0.1346744 | Best = 0.1370528\n",
            "GA | iter = 276 | Mean = 0.1357323 | Best = 0.1370528\n",
            "GA | iter = 277 | Mean = 0.1361147 | Best = 0.1370528\n",
            "GA | iter = 278 | Mean = 0.1356925 | Best = 0.1370528\n",
            "GA | iter = 279 | Mean = 0.1343927 | Best = 0.1370528\n",
            "GA | iter = 280 | Mean = 0.1343176 | Best = 0.1370528\n",
            "GA | iter = 281 | Mean = 0.1352327 | Best = 0.1370528\n",
            "GA | iter = 282 | Mean = 0.1352885 | Best = 0.1370528\n",
            "GA | iter = 283 | Mean = 0.1359115 | Best = 0.1370528\n",
            "GA | iter = 284 | Mean = 0.1364125 | Best = 0.1370528\n",
            "GA | iter = 285 | Mean = 0.1364522 | Best = 0.1370528\n",
            "GA | iter = 286 | Mean = 0.1368347 | Best = 0.1370528\n",
            "GA | iter = 287 | Mean = 0.1358367 | Best = 0.1370610\n",
            "GA | iter = 288 | Mean = 0.1352675 | Best = 0.1370610\n",
            "GA | iter = 289 | Mean = 0.1361815 | Best = 0.1370610\n",
            "GA | iter = 290 | Mean = 0.136409 | Best = 0.137061\n",
            "GA | iter = 291 | Mean = 0.1364398 | Best = 0.1370610\n",
            "GA | iter = 292 | Mean = 0.1354537 | Best = 0.1370610\n",
            "GA | iter = 293 | Mean = 0.1358226 | Best = 0.1370673\n",
            "GA | iter = 294 | Mean = 0.1360312 | Best = 0.1370673\n",
            "GA | iter = 295 | Mean = 0.1361199 | Best = 0.1370673\n",
            "GA | iter = 296 | Mean = 0.1363231 | Best = 0.1371804\n",
            "GA | iter = 297 | Mean = 0.1352762 | Best = 0.1371804\n",
            "GA | iter = 298 | Mean = 0.1358262 | Best = 0.1371804\n",
            "GA | iter = 299 | Mean = 0.1358568 | Best = 0.1371804\n",
            "GA | iter = 300 | Mean = 0.1357330 | Best = 0.1371804\n",
            "GA | iter = 301 | Mean = 0.1352353 | Best = 0.1371804\n",
            "GA | iter = 302 | Mean = 0.1334021 | Best = 0.1371804\n",
            "GA | iter = 303 | Mean = 0.1351673 | Best = 0.1371804\n",
            "GA | iter = 304 | Mean = 0.1354914 | Best = 0.1371804\n",
            "GA | iter = 305 | Mean = 0.1354649 | Best = 0.1371804\n",
            "GA | iter = 306 | Mean = 0.1359571 | Best = 0.1371804\n",
            "GA | iter = 307 | Mean = 0.1361994 | Best = 0.1371804\n",
            "GA | iter = 308 | Mean = 0.1359905 | Best = 0.1371804\n",
            "GA | iter = 309 | Mean = 0.1364719 | Best = 0.1371804\n",
            "GA | iter = 310 | Mean = 0.1358737 | Best = 0.1371804\n",
            "GA | iter = 311 | Mean = 0.1361724 | Best = 0.1371804\n",
            "GA | iter = 312 | Mean = 0.1348369 | Best = 0.1371804\n",
            "GA | iter = 313 | Mean = 0.1360567 | Best = 0.1371864\n",
            "GA | iter = 314 | Mean = 0.1355621 | Best = 0.1371864\n",
            "GA | iter = 315 | Mean = 0.1360396 | Best = 0.1371864\n",
            "GA | iter = 316 | Mean = 0.1367818 | Best = 0.1371864\n",
            "GA | iter = 317 | Mean = 0.1362581 | Best = 0.1371864\n",
            "GA | iter = 318 | Mean = 0.1358591 | Best = 0.1371864\n",
            "GA | iter = 319 | Mean = 0.1356103 | Best = 0.1371864\n",
            "GA | iter = 320 | Mean = 0.1360586 | Best = 0.1372160\n",
            "GA | iter = 321 | Mean = 0.1347952 | Best = 0.1372160\n",
            "GA | iter = 322 | Mean = 0.1358363 | Best = 0.1372160\n",
            "GA | iter = 323 | Mean = 0.1354308 | Best = 0.1372160\n",
            "GA | iter = 324 | Mean = 0.1360945 | Best = 0.1372224\n",
            "GA | iter = 325 | Mean = 0.1354248 | Best = 0.1372224\n",
            "GA | iter = 326 | Mean = 0.1349611 | Best = 0.1372224\n",
            "GA | iter = 327 | Mean = 0.1352738 | Best = 0.1372224\n",
            "GA | iter = 328 | Mean = 0.1357065 | Best = 0.1372224\n",
            "GA | iter = 329 | Mean = 0.1356742 | Best = 0.1372224\n",
            "GA | iter = 330 | Mean = 0.1355976 | Best = 0.1372224\n",
            "GA | iter = 331 | Mean = 0.1357845 | Best = 0.1372224\n",
            "GA | iter = 332 | Mean = 0.1366114 | Best = 0.1372224\n",
            "GA | iter = 333 | Mean = 0.1364963 | Best = 0.1372224\n",
            "GA | iter = 334 | Mean = 0.1360336 | Best = 0.1372224\n",
            "GA | iter = 335 | Mean = 0.1352175 | Best = 0.1372224\n",
            "GA | iter = 336 | Mean = 0.1357317 | Best = 0.1372224\n",
            "GA | iter = 337 | Mean = 0.1361596 | Best = 0.1372224\n",
            "GA | iter = 338 | Mean = 0.1359157 | Best = 0.1372224\n",
            "GA | iter = 339 | Mean = 0.1354456 | Best = 0.1372224\n",
            "GA | iter = 340 | Mean = 0.1359463 | Best = 0.1372224\n",
            "GA | iter = 341 | Mean = 0.1358011 | Best = 0.1372224\n",
            "GA | iter = 342 | Mean = 0.1349502 | Best = 0.1372224\n",
            "GA | iter = 343 | Mean = 0.1360291 | Best = 0.1372224\n",
            "GA | iter = 344 | Mean = 0.1366417 | Best = 0.1372224\n",
            "GA | iter = 345 | Mean = 0.1356110 | Best = 0.1372224\n",
            "GA | iter = 346 | Mean = 0.1359081 | Best = 0.1372224\n",
            "GA | iter = 347 | Mean = 0.1359309 | Best = 0.1372224\n",
            "GA | iter = 348 | Mean = 0.1355582 | Best = 0.1372224\n",
            "GA | iter = 349 | Mean = 0.1369207 | Best = 0.1372224\n",
            "GA | iter = 350 | Mean = 0.1362758 | Best = 0.1372224\n",
            "GA | iter = 351 | Mean = 0.1359088 | Best = 0.1372224\n",
            "GA | iter = 352 | Mean = 0.1355017 | Best = 0.1372224\n",
            "GA | iter = 353 | Mean = 0.1367193 | Best = 0.1372224\n",
            "GA | iter = 354 | Mean = 0.1364851 | Best = 0.1372224\n",
            "GA | iter = 355 | Mean = 0.1364680 | Best = 0.1372224\n",
            "GA | iter = 356 | Mean = 0.1364590 | Best = 0.1372224\n",
            "GA | iter = 357 | Mean = 0.1365096 | Best = 0.1372226\n",
            "GA | iter = 358 | Mean = 0.1369406 | Best = 0.1372226\n",
            "GA | iter = 359 | Mean = 0.1361925 | Best = 0.1372226\n",
            "GA | iter = 360 | Mean = 0.1353930 | Best = 0.1372226\n",
            "GA | iter = 361 | Mean = 0.1350827 | Best = 0.1372269\n",
            "GA | iter = 362 | Mean = 0.1363757 | Best = 0.1372333\n",
            "GA | iter = 363 | Mean = 0.1367893 | Best = 0.1372333\n",
            "GA | iter = 364 | Mean = 0.1354585 | Best = 0.1372333\n",
            "GA | iter = 365 | Mean = 0.1354809 | Best = 0.1372333\n",
            "GA | iter = 366 | Mean = 0.1358437 | Best = 0.1372333\n",
            "GA | iter = 367 | Mean = 0.1354682 | Best = 0.1372333\n",
            "GA | iter = 368 | Mean = 0.1370379 | Best = 0.1372333\n",
            "GA | iter = 369 | Mean = 0.1351313 | Best = 0.1372333\n",
            "GA | iter = 370 | Mean = 0.1361922 | Best = 0.1372333\n",
            "GA | iter = 371 | Mean = 0.1353346 | Best = 0.1372333\n",
            "GA | iter = 372 | Mean = 0.1351894 | Best = 0.1372333\n",
            "GA | iter = 373 | Mean = 0.1353640 | Best = 0.1372333\n",
            "GA | iter = 374 | Mean = 0.1362691 | Best = 0.1372333\n",
            "GA | iter = 375 | Mean = 0.1363198 | Best = 0.1372333\n",
            "GA | iter = 376 | Mean = 0.1351719 | Best = 0.1372333\n",
            "GA | iter = 377 | Mean = 0.1355230 | Best = 0.1372333\n",
            "GA | iter = 378 | Mean = 0.1358046 | Best = 0.1372333\n",
            "GA | iter = 379 | Mean = 0.1364602 | Best = 0.1372333\n",
            "GA | iter = 380 | Mean = 0.1360829 | Best = 0.1372333\n",
            "GA | iter = 381 | Mean = 0.1365767 | Best = 0.1372333\n",
            "GA | iter = 382 | Mean = 0.1359687 | Best = 0.1372333\n",
            "GA | iter = 383 | Mean = 0.1360963 | Best = 0.1372333\n",
            "GA | iter = 384 | Mean = 0.1362374 | Best = 0.1372333\n",
            "GA | iter = 385 | Mean = 0.1360270 | Best = 0.1372333\n",
            "GA | iter = 386 | Mean = 0.1362711 | Best = 0.1372333\n",
            "GA | iter = 387 | Mean = 0.1364157 | Best = 0.1372333\n",
            "GA | iter = 388 | Mean = 0.1363362 | Best = 0.1372333\n",
            "GA | iter = 389 | Mean = 0.1370809 | Best = 0.1372333\n",
            "GA | iter = 390 | Mean = 0.1364902 | Best = 0.1372333\n",
            "GA | iter = 391 | Mean = 0.1346138 | Best = 0.1372333\n",
            "GA | iter = 392 | Mean = 0.1361711 | Best = 0.1372333\n",
            "GA | iter = 393 | Mean = 0.1352015 | Best = 0.1372333\n",
            "GA | iter = 394 | Mean = 0.1331181 | Best = 0.1372333\n",
            "GA | iter = 395 | Mean = 0.1335091 | Best = 0.1372333\n",
            "GA | iter = 396 | Mean = 0.1362587 | Best = 0.1372333\n",
            "GA | iter = 397 | Mean = 0.1369133 | Best = 0.1372333\n",
            "GA | iter = 398 | Mean = 0.1365112 | Best = 0.1372333\n",
            "GA | iter = 399 | Mean = 0.1356171 | Best = 0.1372333\n",
            "GA | iter = 400 | Mean = 0.1357336 | Best = 0.1372333\n",
            "GA | iter = 401 | Mean = 0.1360978 | Best = 0.1372333\n",
            "GA | iter = 402 | Mean = 0.1360967 | Best = 0.1372333\n",
            "GA | iter = 403 | Mean = 0.1364063 | Best = 0.1372333\n",
            "GA | iter = 404 | Mean = 0.1359639 | Best = 0.1372333\n",
            "GA | iter = 405 | Mean = 0.1353326 | Best = 0.1372333\n",
            "GA | iter = 406 | Mean = 0.1357087 | Best = 0.1372333\n",
            "GA | iter = 407 | Mean = 0.1353698 | Best = 0.1372333\n",
            "GA | iter = 408 | Mean = 0.1354139 | Best = 0.1372333\n",
            "GA | iter = 409 | Mean = 0.1356126 | Best = 0.1372333\n",
            "GA | iter = 410 | Mean = 0.1361569 | Best = 0.1372333\n",
            "GA | iter = 411 | Mean = 0.1351863 | Best = 0.1372333\n",
            "GA | iter = 412 | Mean = 0.1362175 | Best = 0.1372333\n",
            "GA | iter = 413 | Mean = 0.1365391 | Best = 0.1372333\n",
            "GA | iter = 414 | Mean = 0.1370248 | Best = 0.1372333\n",
            "GA | iter = 415 | Mean = 0.1350311 | Best = 0.1372333\n",
            "GA | iter = 416 | Mean = 0.1371113 | Best = 0.1372333\n",
            "GA | iter = 417 | Mean = 0.1365740 | Best = 0.1372333\n",
            "GA | iter = 418 | Mean = 0.1365068 | Best = 0.1372333\n",
            "GA | iter = 419 | Mean = 0.1330473 | Best = 0.1372333\n",
            "GA | iter = 420 | Mean = 0.1356942 | Best = 0.1372333\n",
            "GA | iter = 421 | Mean = 0.1363277 | Best = 0.1372333\n",
            "GA | iter = 422 | Mean = 0.1369446 | Best = 0.1372333\n",
            "GA | iter = 423 | Mean = 0.1367018 | Best = 0.1372333\n",
            "GA | iter = 424 | Mean = 0.1361429 | Best = 0.1372333\n",
            "GA | iter = 425 | Mean = 0.1355871 | Best = 0.1372333\n",
            "GA | iter = 426 | Mean = 0.1356532 | Best = 0.1372333\n",
            "GA | iter = 427 | Mean = 0.1348353 | Best = 0.1372333\n",
            "GA | iter = 428 | Mean = 0.1358684 | Best = 0.1372333\n",
            "GA | iter = 429 | Mean = 0.1361843 | Best = 0.1372333\n",
            "GA | iter = 430 | Mean = 0.1360712 | Best = 0.1372333\n",
            "GA | iter = 431 | Mean = 0.1364273 | Best = 0.1372333\n",
            "GA | iter = 432 | Mean = 0.1361411 | Best = 0.1372333\n",
            "GA | iter = 433 | Mean = 0.1348755 | Best = 0.1372333\n",
            "GA | iter = 434 | Mean = 0.1347290 | Best = 0.1372333\n",
            "GA | iter = 435 | Mean = 0.1352400 | Best = 0.1372333\n",
            "GA | iter = 436 | Mean = 0.1349093 | Best = 0.1372333\n",
            "GA | iter = 437 | Mean = 0.1360281 | Best = 0.1372333\n",
            "GA | iter = 438 | Mean = 0.1367159 | Best = 0.1372333\n",
            "GA | iter = 439 | Mean = 0.1362261 | Best = 0.1372333\n",
            "GA | iter = 440 | Mean = 0.1361242 | Best = 0.1372333\n",
            "GA | iter = 441 | Mean = 0.1360149 | Best = 0.1372333\n",
            "GA | iter = 442 | Mean = 0.1357565 | Best = 0.1372333\n",
            "GA | iter = 443 | Mean = 0.1351480 | Best = 0.1372333\n",
            "GA | iter = 444 | Mean = 0.1349228 | Best = 0.1372333\n",
            "GA | iter = 445 | Mean = 0.1357720 | Best = 0.1372333\n",
            "GA | iter = 446 | Mean = 0.1360611 | Best = 0.1372333\n",
            "GA | iter = 447 | Mean = 0.1352501 | Best = 0.1372333\n",
            "GA | iter = 448 | Mean = 0.1365676 | Best = 0.1372333\n",
            "GA | iter = 449 | Mean = 0.1352919 | Best = 0.1372333\n",
            "GA | iter = 450 | Mean = 0.1366752 | Best = 0.1372333\n",
            "GA | iter = 451 | Mean = 0.1363265 | Best = 0.1372333\n",
            "GA | iter = 452 | Mean = 0.1365725 | Best = 0.1372333\n",
            "GA | iter = 453 | Mean = 0.1356797 | Best = 0.1372333\n",
            "GA | iter = 454 | Mean = 0.1365581 | Best = 0.1372333\n",
            "GA | iter = 455 | Mean = 0.1360296 | Best = 0.1372333\n",
            "GA | iter = 456 | Mean = 0.1366935 | Best = 0.1372333\n",
            "GA | iter = 457 | Mean = 0.1355504 | Best = 0.1372333\n",
            "GA | iter = 458 | Mean = 0.1356939 | Best = 0.1372333\n",
            "GA | iter = 459 | Mean = 0.1366950 | Best = 0.1372333\n",
            "GA | iter = 460 | Mean = 0.1360254 | Best = 0.1372333\n",
            "GA | iter = 461 | Mean = 0.1341338 | Best = 0.1372333\n",
            "── \u001b[1mGenetic Algorithm\u001b[22m ─────────────────── \n",
            "\n",
            "GA settings: \n",
            "Type                  =  real-valued \n",
            "Population size       =  50 \n",
            "Number of generations =  500 \n",
            "Elitism               =  3 \n",
            "Crossover probability =  0.8 \n",
            "Mutation probability  =  0.1 \n",
            "Search domain = \n",
            "      x1 x2 x3 x4 x5 x6 x7 x8\n",
            "lower  0  0  0  0  0  0  0  0\n",
            "upper  1  1  1  1  1  1  1  1\n",
            "\n",
            "GA results: \n",
            "Iterations             = 461 \n",
            "Fitness function value = 0.1372333 \n",
            "Solution = \n",
            "              x1          x2           x3           x4           x5        x6\n",
            "[1,] 0.006110415 0.003142074 0.0007940084 0.0004894435 0.0002702326 0.4071387\n",
            "             x7        x8\n",
            "[1,] 0.00362429 0.9892355\n",
            "\n",
            "Solusi yang diperoleh dengan menggunakan GA adalah:\n",
            "              x1          x2           x3           x4           x5        x6\n",
            "[1,] 0.006110415 0.003142074 0.0007940084 0.0004894435 0.0002702326 0.4071387\n",
            "             x7        x8\n",
            "[1,] 0.00362429 0.9892355\n",
            "\n",
            "Bobot Portofolio yang Diperoleh:\n",
            "          x1           x2           x3           x4           x5           x6 \n",
            "0.0043311559 0.0022271502 0.0005628053 0.0003469251 0.0001915450 0.2885861493 \n",
            "          x7           x8 \n",
            "0.0025689526 0.7011853165 \n"
          ]
        }
      ]
    },
    {
      "cell_type": "code",
      "source": [
        "wga_normal"
      ],
      "metadata": {
        "colab": {
          "base_uri": "https://localhost:8080/",
          "height": 69
        },
        "id": "ZH8KMxD8AIfh",
        "outputId": "cff97a31-b133-4c4c-8494-18bbd9b285ce"
      },
      "execution_count": null,
      "outputs": [
        {
          "output_type": "display_data",
          "data": {
            "text/html": [
              "<style>\n",
              ".dl-inline {width: auto; margin:0; padding: 0}\n",
              ".dl-inline>dt, .dl-inline>dd {float: none; width: auto; display: inline-block}\n",
              ".dl-inline>dt::after {content: \":\\0020\"; padding-right: .5ex}\n",
              ".dl-inline>dt:not(:first-of-type) {padding-left: .5ex}\n",
              "</style><dl class=dl-inline><dt>x1</dt><dd>0.00433115594861106</dd><dt>x2</dt><dd>0.00222715015614693</dd><dt>x3</dt><dd>0.000562805336550092</dd><dt>x4</dt><dd>0.000346925102455181</dd><dt>x5</dt><dd>0.000191544989740751</dd><dt>x6</dt><dd>0.288586149342184</dd><dt>x7</dt><dd>0.00256895260516818</dd><dt>x8</dt><dd>0.701185316519144</dd></dl>\n"
            ],
            "text/markdown": "x1\n:   0.00433115594861106x2\n:   0.00222715015614693x3\n:   0.000562805336550092x4\n:   0.000346925102455181x5\n:   0.000191544989740751x6\n:   0.288586149342184x7\n:   0.00256895260516818x8\n:   0.701185316519144\n\n",
            "text/latex": "\\begin{description*}\n\\item[x1] 0.00433115594861106\n\\item[x2] 0.00222715015614693\n\\item[x3] 0.000562805336550092\n\\item[x4] 0.000346925102455181\n\\item[x5] 0.000191544989740751\n\\item[x6] 0.288586149342184\n\\item[x7] 0.00256895260516818\n\\item[x8] 0.701185316519144\n\\end{description*}\n",
            "text/plain": [
              "          x1           x2           x3           x4           x5           x6 \n",
              "0.0043311559 0.0022271502 0.0005628053 0.0003469251 0.0001915450 0.2885861493 \n",
              "          x7           x8 \n",
              "0.0025689526 0.7011853165 "
            ]
          },
          "metadata": {}
        }
      ]
    },
    {
      "cell_type": "code",
      "source": [
        "weights <- c(0.0043311559, 0.0022271502, 0.0005628053, 0.0003469251,\n",
        "             0.0001915450, 0.2885861493, 0.0025689526, 0.7011853165)"
      ],
      "metadata": {
        "id": "9yKrSKk7APnc"
      },
      "execution_count": null,
      "outputs": []
    },
    {
      "cell_type": "code",
      "source": [
        "cov_matrix"
      ],
      "metadata": {
        "colab": {
          "base_uri": "https://localhost:8080/",
          "height": 476
        },
        "id": "xottsrWVAVp4",
        "outputId": "38641c2d-b158-4bfd-8250-dd89e61535d4"
      },
      "execution_count": null,
      "outputs": [
        {
          "output_type": "display_data",
          "data": {
            "text/html": [
              "<table class=\"dataframe\">\n",
              "<caption>A matrix: 8 × 8 of type dbl</caption>\n",
              "<thead>\n",
              "\t<tr><th></th><th scope=col>AVB</th><th scope=col>EQR</th><th scope=col>FRT</th><th scope=col>O</th><th scope=col>REG</th><th scope=col>UDR</th><th scope=col>VICI</th><th scope=col>WELL</th></tr>\n",
              "</thead>\n",
              "<tbody>\n",
              "\t<tr><th scope=row>AVB</th><td>1.442596e-04</td><td>1.330573e-04</td><td>8.981427e-05</td><td>7.624920e-05</td><td>8.728978e-05</td><td>1.275368e-04</td><td>7.208823e-05</td><td>7.710629e-05</td></tr>\n",
              "\t<tr><th scope=row>EQR</th><td>1.330573e-04</td><td>1.505271e-04</td><td>8.472428e-05</td><td>8.065378e-05</td><td>7.998404e-05</td><td>1.320769e-04</td><td>7.749765e-05</td><td>7.826768e-05</td></tr>\n",
              "\t<tr><th scope=row>FRT</th><td>8.981427e-05</td><td>8.472428e-05</td><td>1.296372e-04</td><td>8.082747e-05</td><td>1.081014e-04</td><td>8.892694e-05</td><td>8.479882e-05</td><td>6.907150e-05</td></tr>\n",
              "\t<tr><th scope=row>O</th><td>7.624920e-05</td><td>8.065378e-05</td><td>8.082747e-05</td><td>1.240029e-04</td><td>7.964554e-05</td><td>8.085628e-05</td><td>9.332451e-05</td><td>5.976097e-05</td></tr>\n",
              "\t<tr><th scope=row>REG</th><td>8.728978e-05</td><td>7.998404e-05</td><td>1.081014e-04</td><td>7.964554e-05</td><td>1.247363e-04</td><td>8.511784e-05</td><td>8.192996e-05</td><td>7.346586e-05</td></tr>\n",
              "\t<tr><th scope=row>UDR</th><td>1.275368e-04</td><td>1.320769e-04</td><td>8.892694e-05</td><td>8.085628e-05</td><td>8.511784e-05</td><td>1.490632e-04</td><td>7.481700e-05</td><td>7.249870e-05</td></tr>\n",
              "\t<tr><th scope=row>VICI</th><td>7.208823e-05</td><td>7.749765e-05</td><td>8.479882e-05</td><td>9.332451e-05</td><td>8.192996e-05</td><td>7.481700e-05</td><td>1.333745e-04</td><td>6.184294e-05</td></tr>\n",
              "\t<tr><th scope=row>WELL</th><td>7.710629e-05</td><td>7.826768e-05</td><td>6.907150e-05</td><td>5.976097e-05</td><td>7.346586e-05</td><td>7.249870e-05</td><td>6.184294e-05</td><td>1.357584e-04</td></tr>\n",
              "</tbody>\n",
              "</table>\n"
            ],
            "text/markdown": "\nA matrix: 8 × 8 of type dbl\n\n| <!--/--> | AVB | EQR | FRT | O | REG | UDR | VICI | WELL |\n|---|---|---|---|---|---|---|---|---|\n| AVB | 1.442596e-04 | 1.330573e-04 | 8.981427e-05 | 7.624920e-05 | 8.728978e-05 | 1.275368e-04 | 7.208823e-05 | 7.710629e-05 |\n| EQR | 1.330573e-04 | 1.505271e-04 | 8.472428e-05 | 8.065378e-05 | 7.998404e-05 | 1.320769e-04 | 7.749765e-05 | 7.826768e-05 |\n| FRT | 8.981427e-05 | 8.472428e-05 | 1.296372e-04 | 8.082747e-05 | 1.081014e-04 | 8.892694e-05 | 8.479882e-05 | 6.907150e-05 |\n| O | 7.624920e-05 | 8.065378e-05 | 8.082747e-05 | 1.240029e-04 | 7.964554e-05 | 8.085628e-05 | 9.332451e-05 | 5.976097e-05 |\n| REG | 8.728978e-05 | 7.998404e-05 | 1.081014e-04 | 7.964554e-05 | 1.247363e-04 | 8.511784e-05 | 8.192996e-05 | 7.346586e-05 |\n| UDR | 1.275368e-04 | 1.320769e-04 | 8.892694e-05 | 8.085628e-05 | 8.511784e-05 | 1.490632e-04 | 7.481700e-05 | 7.249870e-05 |\n| VICI | 7.208823e-05 | 7.749765e-05 | 8.479882e-05 | 9.332451e-05 | 8.192996e-05 | 7.481700e-05 | 1.333745e-04 | 6.184294e-05 |\n| WELL | 7.710629e-05 | 7.826768e-05 | 6.907150e-05 | 5.976097e-05 | 7.346586e-05 | 7.249870e-05 | 6.184294e-05 | 1.357584e-04 |\n\n",
            "text/latex": "A matrix: 8 × 8 of type dbl\n\\begin{tabular}{r|llllllll}\n  & AVB & EQR & FRT & O & REG & UDR & VICI & WELL\\\\\n\\hline\n\tAVB & 1.442596e-04 & 1.330573e-04 & 8.981427e-05 & 7.624920e-05 & 8.728978e-05 & 1.275368e-04 & 7.208823e-05 & 7.710629e-05\\\\\n\tEQR & 1.330573e-04 & 1.505271e-04 & 8.472428e-05 & 8.065378e-05 & 7.998404e-05 & 1.320769e-04 & 7.749765e-05 & 7.826768e-05\\\\\n\tFRT & 8.981427e-05 & 8.472428e-05 & 1.296372e-04 & 8.082747e-05 & 1.081014e-04 & 8.892694e-05 & 8.479882e-05 & 6.907150e-05\\\\\n\tO & 7.624920e-05 & 8.065378e-05 & 8.082747e-05 & 1.240029e-04 & 7.964554e-05 & 8.085628e-05 & 9.332451e-05 & 5.976097e-05\\\\\n\tREG & 8.728978e-05 & 7.998404e-05 & 1.081014e-04 & 7.964554e-05 & 1.247363e-04 & 8.511784e-05 & 8.192996e-05 & 7.346586e-05\\\\\n\tUDR & 1.275368e-04 & 1.320769e-04 & 8.892694e-05 & 8.085628e-05 & 8.511784e-05 & 1.490632e-04 & 7.481700e-05 & 7.249870e-05\\\\\n\tVICI & 7.208823e-05 & 7.749765e-05 & 8.479882e-05 & 9.332451e-05 & 8.192996e-05 & 7.481700e-05 & 1.333745e-04 & 6.184294e-05\\\\\n\tWELL & 7.710629e-05 & 7.826768e-05 & 6.907150e-05 & 5.976097e-05 & 7.346586e-05 & 7.249870e-05 & 6.184294e-05 & 1.357584e-04\\\\\n\\end{tabular}\n",
            "text/plain": [
              "     AVB          EQR          FRT          O            REG         \n",
              "AVB  1.442596e-04 1.330573e-04 8.981427e-05 7.624920e-05 8.728978e-05\n",
              "EQR  1.330573e-04 1.505271e-04 8.472428e-05 8.065378e-05 7.998404e-05\n",
              "FRT  8.981427e-05 8.472428e-05 1.296372e-04 8.082747e-05 1.081014e-04\n",
              "O    7.624920e-05 8.065378e-05 8.082747e-05 1.240029e-04 7.964554e-05\n",
              "REG  8.728978e-05 7.998404e-05 1.081014e-04 7.964554e-05 1.247363e-04\n",
              "UDR  1.275368e-04 1.320769e-04 8.892694e-05 8.085628e-05 8.511784e-05\n",
              "VICI 7.208823e-05 7.749765e-05 8.479882e-05 9.332451e-05 8.192996e-05\n",
              "WELL 7.710629e-05 7.826768e-05 6.907150e-05 5.976097e-05 7.346586e-05\n",
              "     UDR          VICI         WELL        \n",
              "AVB  1.275368e-04 7.208823e-05 7.710629e-05\n",
              "EQR  1.320769e-04 7.749765e-05 7.826768e-05\n",
              "FRT  8.892694e-05 8.479882e-05 6.907150e-05\n",
              "O    8.085628e-05 9.332451e-05 5.976097e-05\n",
              "REG  8.511784e-05 8.192996e-05 7.346586e-05\n",
              "UDR  1.490632e-04 7.481700e-05 7.249870e-05\n",
              "VICI 7.481700e-05 1.333745e-04 6.184294e-05\n",
              "WELL 7.249870e-05 6.184294e-05 1.357584e-04"
            ]
          },
          "metadata": {}
        }
      ]
    },
    {
      "cell_type": "code",
      "source": [
        "# Return portofolio (menggunakan bobot yang sudah dihitung)\n",
        "port_return <- sum(weights * colMeans(data_saham_subset))  # R_p\n",
        "\n",
        "# Volatilitas portofolio (menggunakan bobot dan matriks kovarians)\n",
        "port_volatility <- sqrt(t(weights) %*% cov_matrix %*% weights)  # sigma_p\n",
        "\n",
        "# Risk-free rate per hari (misalnya 0.0475/365 untuk tahunan 4.75%)\n",
        "Rf <- 0.06 / 365\n",
        "\n",
        "# Sharpe Ratio\n",
        "sharpe_ratio <- (port_return - Rf) / port_volatility\n",
        "\n",
        "# Output hasil Sharpe Ratio\n",
        "cat(\"Sharpe Ratio: \", sharpe_ratio, \"\\n\")"
      ],
      "metadata": {
        "colab": {
          "base_uri": "https://localhost:8080/"
        },
        "id": "igJBShHjAanD",
        "outputId": "1ddac6d7-7588-43ae-cea1-326350cd2d45"
      },
      "execution_count": null,
      "outputs": [
        {
          "output_type": "stream",
          "name": "stdout",
          "text": [
            "Sharpe Ratio:  0.1326737 \n"
          ]
        }
      ]
    },
    {
      "cell_type": "code",
      "source": [
        "# prompt: BARPLOT wga_normal, add label in each bar descending, add grid\n",
        "\n",
        "# Create a barplot of wga_normal with descending labels and grid\n",
        "barplot(wga_normal,\n",
        "        main = \"Bobot Portofolio DBSCAN-GA\",\n",
        "        xlab = \"Saham\",\n",
        "        ylab = \"Bobot\",\n",
        "        names.arg = best_ticker, # Set stock names as labels\n",
        "        las = 2,  # Rotate x-axis labels vertically\n",
        "        col = \"skyblue\", # Set bar color\n",
        "        ylim = c(0, max(wga_normal) * 1.1)) # Adjust y-axis limit for better label visibility\n",
        "\n",
        "# Add labels on top of each bar\n",
        "text(x = barplot(wga_normal, plot = FALSE), y = wga_normal, label = round(wga_normal, 4), pos = 3, cex = 0.8, col=\"black\")\n",
        "\n",
        "# Add grid lines\n",
        "grid(nx = NA, ny = NULL)"
      ],
      "metadata": {
        "colab": {
          "base_uri": "https://localhost:8080/",
          "height": 437
        },
        "id": "hZTYN9GMMtno",
        "outputId": "ca928482-33d4-4c54-e4c5-62085dc69e59"
      },
      "execution_count": null,
      "outputs": [
        {
          "output_type": "display_data",
          "data": {
            "text/plain": [
              "Plot with title “Bobot Portofolio DBSCAN-GA”"
            ],
            "image/png": "[encoded data removed]"
          },
          "metadata": {
            "image/png": {
              "width": 420,
              "height": 420
            }
          }
        }
      ]
    },
    {
      "cell_type": "markdown",
      "source": [
        "# Hasil Hierarchial"
      ],
      "metadata": {
        "id": "zYRxxhUGDO69"
      }
    },
    {
      "cell_type": "code",
      "source": [
        "# Select specific columns from data_saham\n",
        "best_ticker <- c(\"AVB\", \"CPT\", \"EQR\", \"ESS\", \"KIM\", \"MAA\", \"PSA\", \"SPG\",\"UDR\",\"VTR\")\n",
        "data_saham_subset <- data_saham[, best_ticker]\n",
        "\n",
        "# Print the subset\n",
        "head(data_saham_subset)"
      ],
      "metadata": {
        "colab": {
          "base_uri": "https://localhost:8080/",
          "height": 306
        },
        "id": "IhDC84jnDRVE",
        "outputId": "29a826d6-c611-42ce-b3f5-8b0e8afa9995"
      },
      "execution_count": null,
      "outputs": [
        {
          "output_type": "display_data",
          "data": {
            "text/html": [
              "<table class=\"dataframe\">\n",
              "<caption>A data.frame: 6 × 10</caption>\n",
              "<thead>\n",
              "\t<tr><th></th><th scope=col>AVB</th><th scope=col>CPT</th><th scope=col>EQR</th><th scope=col>ESS</th><th scope=col>KIM</th><th scope=col>MAA</th><th scope=col>PSA</th><th scope=col>SPG</th><th scope=col>UDR</th><th scope=col>VTR</th></tr>\n",
              "\t<tr><th></th><th scope=col>&lt;dbl&gt;</th><th scope=col>&lt;dbl&gt;</th><th scope=col>&lt;dbl&gt;</th><th scope=col>&lt;dbl&gt;</th><th scope=col>&lt;dbl&gt;</th><th scope=col>&lt;dbl&gt;</th><th scope=col>&lt;dbl&gt;</th><th scope=col>&lt;dbl&gt;</th><th scope=col>&lt;dbl&gt;</th><th scope=col>&lt;dbl&gt;</th></tr>\n",
              "</thead>\n",
              "<tbody>\n",
              "\t<tr><th scope=row>1</th><td>-0.011202453</td><td> 0.0000000000</td><td>-0.0075253228</td><td>-0.005672233</td><td>-0.0004866765</td><td>-0.003000644</td><td>-0.001746896</td><td>-0.000535043</td><td>-0.002024527</td><td>-0.005099911</td></tr>\n",
              "\t<tr><th scope=row>2</th><td>-0.004390477</td><td> 0.0037547815</td><td> 0.0003433008</td><td> 0.009748803</td><td>-0.0014856321</td><td> 0.005363148</td><td> 0.003082560</td><td> 0.007237758</td><td> 0.003756630</td><td>-0.018925257</td></tr>\n",
              "\t<tr><th scope=row>3</th><td> 0.002226274</td><td> 0.0001070847</td><td> 0.0073524003</td><td> 0.005217143</td><td>-0.0024808052</td><td> 0.000393219</td><td> 0.012639545</td><td> 0.011639684</td><td> 0.009473245</td><td> 0.003467758</td></tr>\n",
              "\t<tr><th scope=row>4</th><td> 0.002107343</td><td> 0.0026730591</td><td> 0.0020422104</td><td> 0.005588000</td><td> 0.0054495728</td><td>-0.000393219</td><td> 0.002633127</td><td> 0.011580887</td><td> 0.010515999</td><td> 0.010759699</td></tr>\n",
              "\t<tr><th scope=row>5</th><td>-0.001936414</td><td>-0.0024589240</td><td>-0.0111122944</td><td> 0.004236756</td><td> 0.0054201329</td><td>-0.005521426</td><td> 0.010969231</td><td> 0.014197396</td><td>-0.011087477</td><td> 0.004271638</td></tr>\n",
              "\t<tr><th scope=row>6</th><td>-0.003311984</td><td> 0.0072525147</td><td> 0.0001719694</td><td> 0.002375328</td><td>-0.0039389015</td><td> 0.009446675</td><td>-0.003035650</td><td>-0.002153932</td><td> 0.013346727</td><td>-0.004057622</td></tr>\n",
              "</tbody>\n",
              "</table>\n"
            ],
            "text/markdown": "\nA data.frame: 6 × 10\n\n| <!--/--> | AVB &lt;dbl&gt; | CPT &lt;dbl&gt; | EQR &lt;dbl&gt; | ESS &lt;dbl&gt; | KIM &lt;dbl&gt; | MAA &lt;dbl&gt; | PSA &lt;dbl&gt; | SPG &lt;dbl&gt; | UDR &lt;dbl&gt; | VTR &lt;dbl&gt; |\n|---|---|---|---|---|---|---|---|---|---|---|\n| 1 | -0.011202453 |  0.0000000000 | -0.0075253228 | -0.005672233 | -0.0004866765 | -0.003000644 | -0.001746896 | -0.000535043 | -0.002024527 | -0.005099911 |\n| 2 | -0.004390477 |  0.0037547815 |  0.0003433008 |  0.009748803 | -0.0014856321 |  0.005363148 |  0.003082560 |  0.007237758 |  0.003756630 | -0.018925257 |\n| 3 |  0.002226274 |  0.0001070847 |  0.0073524003 |  0.005217143 | -0.0024808052 |  0.000393219 |  0.012639545 |  0.011639684 |  0.009473245 |  0.003467758 |\n| 4 |  0.002107343 |  0.0026730591 |  0.0020422104 |  0.005588000 |  0.0054495728 | -0.000393219 |  0.002633127 |  0.011580887 |  0.010515999 |  0.010759699 |\n| 5 | -0.001936414 | -0.0024589240 | -0.0111122944 |  0.004236756 |  0.0054201329 | -0.005521426 |  0.010969231 |  0.014197396 | -0.011087477 |  0.004271638 |\n| 6 | -0.003311984 |  0.0072525147 |  0.0001719694 |  0.002375328 | -0.0039389015 |  0.009446675 | -0.003035650 | -0.002153932 |  0.013346727 | -0.004057622 |\n\n",
            "text/latex": "A data.frame: 6 × 10\n\\begin{tabular}{r|llllllllll}\n  & AVB & CPT & EQR & ESS & KIM & MAA & PSA & SPG & UDR & VTR\\\\\n  & <dbl> & <dbl> & <dbl> & <dbl> & <dbl> & <dbl> & <dbl> & <dbl> & <dbl> & <dbl>\\\\\n\\hline\n\t1 & -0.011202453 &  0.0000000000 & -0.0075253228 & -0.005672233 & -0.0004866765 & -0.003000644 & -0.001746896 & -0.000535043 & -0.002024527 & -0.005099911\\\\\n\t2 & -0.004390477 &  0.0037547815 &  0.0003433008 &  0.009748803 & -0.0014856321 &  0.005363148 &  0.003082560 &  0.007237758 &  0.003756630 & -0.018925257\\\\\n\t3 &  0.002226274 &  0.0001070847 &  0.0073524003 &  0.005217143 & -0.0024808052 &  0.000393219 &  0.012639545 &  0.011639684 &  0.009473245 &  0.003467758\\\\\n\t4 &  0.002107343 &  0.0026730591 &  0.0020422104 &  0.005588000 &  0.0054495728 & -0.000393219 &  0.002633127 &  0.011580887 &  0.010515999 &  0.010759699\\\\\n\t5 & -0.001936414 & -0.0024589240 & -0.0111122944 &  0.004236756 &  0.0054201329 & -0.005521426 &  0.010969231 &  0.014197396 & -0.011087477 &  0.004271638\\\\\n\t6 & -0.003311984 &  0.0072525147 &  0.0001719694 &  0.002375328 & -0.0039389015 &  0.009446675 & -0.003035650 & -0.002153932 &  0.013346727 & -0.004057622\\\\\n\\end{tabular}\n",
            "text/plain": [
              "  AVB          CPT           EQR           ESS          KIM          \n",
              "1 -0.011202453  0.0000000000 -0.0075253228 -0.005672233 -0.0004866765\n",
              "2 -0.004390477  0.0037547815  0.0003433008  0.009748803 -0.0014856321\n",
              "3  0.002226274  0.0001070847  0.0073524003  0.005217143 -0.0024808052\n",
              "4  0.002107343  0.0026730591  0.0020422104  0.005588000  0.0054495728\n",
              "5 -0.001936414 -0.0024589240 -0.0111122944  0.004236756  0.0054201329\n",
              "6 -0.003311984  0.0072525147  0.0001719694  0.002375328 -0.0039389015\n",
              "  MAA          PSA          SPG          UDR          VTR         \n",
              "1 -0.003000644 -0.001746896 -0.000535043 -0.002024527 -0.005099911\n",
              "2  0.005363148  0.003082560  0.007237758  0.003756630 -0.018925257\n",
              "3  0.000393219  0.012639545  0.011639684  0.009473245  0.003467758\n",
              "4 -0.000393219  0.002633127  0.011580887  0.010515999  0.010759699\n",
              "5 -0.005521426  0.010969231  0.014197396 -0.011087477  0.004271638\n",
              "6  0.009446675 -0.003035650 -0.002153932  0.013346727 -0.004057622"
            ]
          },
          "metadata": {}
        }
      ]
    },
    {
      "cell_type": "code",
      "source": [
        "# Menampilkan rata-rata return per saham\n",
        "mean_returns <- colMeans(data_saham_subset)\n",
        "cat(\"Rata-rata Return Saham:\\n\")\n",
        "print(mean_returns)\n",
        "\n",
        "# Matriks kovarians return\n",
        "cov_matrix <- cov(data_saham_subset)\n",
        "cat(\"\\nMatriks Kovarians:\\n\")\n",
        "print(cov_matrix)"
      ],
      "metadata": {
        "colab": {
          "base_uri": "https://localhost:8080/"
        },
        "id": "ptqUE3HEDsp-",
        "outputId": "1804f626-8a6e-46af-8886-e38e812b7ae1"
      },
      "execution_count": null,
      "outputs": [
        {
          "output_type": "stream",
          "name": "stdout",
          "text": [
            "Rata-rata Return Saham:\n",
            "        AVB         CPT         EQR         ESS         KIM         MAA \n",
            "0.001181122 0.001302552 0.001153242 0.001392312 0.001024377 0.001156317 \n",
            "        PSA         SPG         UDR         VTR \n",
            "0.001142504 0.001518127 0.001246440 0.001249789 \n",
            "\n",
            "Matriks Kovarians:\n",
            "             AVB          CPT          EQR          ESS          KIM\n",
            "AVB 1.442596e-04 1.274259e-04 1.330573e-04 1.410871e-04 1.052430e-04\n",
            "CPT 1.274259e-04 1.839646e-04 1.291442e-04 1.432638e-04 1.064581e-04\n",
            "EQR 1.330573e-04 1.291442e-04 1.505271e-04 1.444635e-04 9.784604e-05\n",
            "ESS 1.410871e-04 1.432638e-04 1.444635e-04 1.807874e-04 1.109702e-04\n",
            "KIM 1.052430e-04 1.064581e-04 9.784604e-05 1.109702e-04 1.885456e-04\n",
            "MAA 1.209191e-04 1.574203e-04 1.199446e-04 1.342825e-04 1.037231e-04\n",
            "PSA 1.076483e-04 1.186458e-04 1.095428e-04 1.209230e-04 1.318437e-04\n",
            "SPG 9.687766e-05 9.323345e-05 9.485054e-05 1.072587e-04 1.230274e-04\n",
            "UDR 1.275368e-04 1.403296e-04 1.320769e-04 1.465061e-04 1.029514e-04\n",
            "VTR 9.452382e-05 1.049622e-04 9.402136e-05 9.996768e-05 1.114843e-04\n",
            "             MAA          PSA          SPG          UDR          VTR\n",
            "AVB 1.209191e-04 0.0001076483 9.687766e-05 1.275368e-04 9.452382e-05\n",
            "CPT 1.574203e-04 0.0001186458 9.323345e-05 1.403296e-04 1.049622e-04\n",
            "EQR 1.199446e-04 0.0001095428 9.485054e-05 1.320769e-04 9.402136e-05\n",
            "ESS 1.342825e-04 0.0001209230 1.072587e-04 1.465061e-04 9.996768e-05\n",
            "KIM 1.037231e-04 0.0001318437 1.230274e-04 1.029514e-04 1.114843e-04\n",
            "MAA 1.693674e-04 0.0001164013 9.159025e-05 1.337242e-04 1.000644e-04\n",
            "PSA 1.164013e-04 0.0002082563 1.077126e-04 1.101433e-04 1.163255e-04\n",
            "SPG 9.159025e-05 0.0001077126 1.825417e-04 9.738013e-05 8.587527e-05\n",
            "UDR 1.337242e-04 0.0001101433 9.738013e-05 1.490632e-04 9.284899e-05\n",
            "VTR 1.000644e-04 0.0001163255 8.587527e-05 9.284899e-05 1.846380e-04\n"
          ]
        }
      ]
    },
    {
      "cell_type": "code",
      "source": [
        "# Fungsi GA (Genetic Algorithm)\n",
        "Rf <- 0.06 / 365 # suku bunga acuan 6%\n",
        "GA.S <- function(x, y, z){\n",
        "  fungsi <- function(x){\n",
        "    ((t(x) %*% y) - Rf) / sqrt(t(x) %*% z %*% x)\n",
        "  }\n",
        "  gaControl(\"real-valued\" = list(selection = \"ga_tourSelection\",\n",
        "                                 crossover = \"gabin_uCrossover\",\n",
        "                                 mutation = 'gareal_raMutatioon'))\n",
        "  Genal <- ga(type = \"real-valued\", fitness = fungsi, lower = rep(0, ncol(x)),\n",
        "              upper = rep(1, ncol(x)), population = gaControl(\"real-valued\")$population,\n",
        "              selection = gaControl(\"real-valued\")$selection,\n",
        "              crossover = gaControl(\"binary\")$crossover,\n",
        "              mutation = gaControl(\"real-valued\")$mutation,\n",
        "              popSize = 50, pcrossover = 0.8, pmutation = 0.1, elitism = 3,\n",
        "              maxiter = 500, run = 100 ,monitor = TRUE, seed = 123)\n",
        "  print(summary(Genal))\n",
        "  cat(\"\\nSolusi yang diperoleh dengan menggunakan GA adalah:\\n\")\n",
        "  print(Genal@solution)\n",
        "}\n",
        "\n",
        "# Fungsi untuk menghitung bobot portofolio\n",
        "bobot <- function(x){\n",
        "  drop(x / sum(x))\n",
        "}\n",
        "\n",
        "# Menghitung bobot portofolio menggunakan GA\n",
        "GAs_normal <- GA.S(data_saham_subset, mean_returns, cov_matrix)\n",
        "wga_normal <- bobot(GAs_normal)\n",
        "cat(\"\\nBobot Portofolio yang Diperoleh:\\n\")\n",
        "print(wga_normal)\n"
      ],
      "metadata": {
        "colab": {
          "base_uri": "https://localhost:8080/"
        },
        "id": "x9yF03aRDyKS",
        "outputId": "4e370e80-6833-420d-e924-07f773a1ceed"
      },
      "execution_count": null,
      "outputs": [
        {
          "output_type": "stream",
          "name": "stdout",
          "text": [
            "GA | iter = 1 | Mean = 0.1082719 | Best = 0.1135152\n",
            "GA | iter = 2 | Mean = 0.1094203 | Best = 0.1159023\n",
            "GA | iter = 3 | Mean = 0.1116080 | Best = 0.1159023\n",
            "GA | iter = 4 | Mean = 0.1130365 | Best = 0.1159023\n",
            "GA | iter = 5 | Mean = 0.1138867 | Best = 0.1165441\n",
            "GA | iter = 6 | Mean = 0.1144775 | Best = 0.1165441\n",
            "GA | iter = 7 | Mean = 0.1152873 | Best = 0.1167003\n",
            "GA | iter = 8 | Mean = 0.1156204 | Best = 0.1168954\n",
            "GA | iter = 9 | Mean = 0.1160217 | Best = 0.1168999\n",
            "GA | iter = 10 | Mean = 0.1163091 | Best = 0.1170540\n",
            "GA | iter = 11 | Mean = 0.1165748 | Best = 0.1170965\n",
            "GA | iter = 12 | Mean = 0.1163080 | Best = 0.1172883\n",
            "GA | iter = 13 | Mean = 0.1165262 | Best = 0.1172883\n",
            "GA | iter = 14 | Mean = 0.1167735 | Best = 0.1172883\n",
            "GA | iter = 15 | Mean = 0.1169040 | Best = 0.1175411\n",
            "GA | iter = 16 | Mean = 0.1168747 | Best = 0.1175411\n",
            "GA | iter = 17 | Mean = 0.1169865 | Best = 0.1175411\n",
            "GA | iter = 18 | Mean = 0.1171354 | Best = 0.1176602\n",
            "GA | iter = 19 | Mean = 0.1171025 | Best = 0.1177239\n",
            "GA | iter = 20 | Mean = 0.1170897 | Best = 0.1177239\n",
            "GA | iter = 21 | Mean = 0.1172150 | Best = 0.1177239\n",
            "GA | iter = 22 | Mean = 0.1173016 | Best = 0.1177239\n",
            "GA | iter = 23 | Mean = 0.1172465 | Best = 0.1177239\n",
            "GA | iter = 24 | Mean = 0.1172873 | Best = 0.1177239\n",
            "GA | iter = 25 | Mean = 0.1174433 | Best = 0.1177239\n",
            "GA | iter = 26 | Mean = 0.1173855 | Best = 0.1177288\n",
            "GA | iter = 27 | Mean = 0.1174109 | Best = 0.1180310\n",
            "GA | iter = 28 | Mean = 0.1174398 | Best = 0.1180310\n",
            "GA | iter = 29 | Mean = 0.1173302 | Best = 0.1180310\n",
            "GA | iter = 30 | Mean = 0.1175090 | Best = 0.1180473\n",
            "GA | iter = 31 | Mean = 0.1175761 | Best = 0.1180473\n",
            "GA | iter = 32 | Mean = 0.1172922 | Best = 0.1180509\n",
            "GA | iter = 33 | Mean = 0.1174442 | Best = 0.1183146\n",
            "GA | iter = 34 | Mean = 0.1176796 | Best = 0.1184090\n",
            "GA | iter = 35 | Mean = 0.1176782 | Best = 0.1186060\n",
            "GA | iter = 36 | Mean = 0.1176587 | Best = 0.1186060\n",
            "GA | iter = 37 | Mean = 0.1176217 | Best = 0.1186060\n",
            "GA | iter = 38 | Mean = 0.1177256 | Best = 0.1186060\n",
            "GA | iter = 39 | Mean = 0.1180211 | Best = 0.1186060\n",
            "GA | iter = 40 | Mean = 0.1182492 | Best = 0.1186060\n",
            "GA | iter = 41 | Mean = 0.1180986 | Best = 0.1186060\n",
            "GA | iter = 42 | Mean = 0.1181137 | Best = 0.1186108\n",
            "GA | iter = 43 | Mean = 0.1183247 | Best = 0.1186108\n",
            "GA | iter = 44 | Mean = 0.1183514 | Best = 0.1186108\n",
            "GA | iter = 45 | Mean = 0.1183118 | Best = 0.1186108\n",
            "GA | iter = 46 | Mean = 0.1182780 | Best = 0.1186108\n",
            "GA | iter = 47 | Mean = 0.1183859 | Best = 0.1186168\n",
            "GA | iter = 48 | Mean = 0.1185055 | Best = 0.1186657\n",
            "GA | iter = 49 | Mean = 0.1184187 | Best = 0.1186657\n",
            "GA | iter = 50 | Mean = 0.1183717 | Best = 0.1186761\n",
            "GA | iter = 51 | Mean = 0.1182858 | Best = 0.1186761\n",
            "GA | iter = 52 | Mean = 0.1182982 | Best = 0.1186761\n",
            "GA | iter = 53 | Mean = 0.1183448 | Best = 0.1186761\n",
            "GA | iter = 54 | Mean = 0.1184384 | Best = 0.1186761\n",
            "GA | iter = 55 | Mean = 0.1183039 | Best = 0.1186761\n",
            "GA | iter = 56 | Mean = 0.1183832 | Best = 0.1186761\n",
            "GA | iter = 57 | Mean = 0.1183250 | Best = 0.1186761\n",
            "GA | iter = 58 | Mean = 0.1184717 | Best = 0.1186761\n",
            "GA | iter = 59 | Mean = 0.1183344 | Best = 0.1186761\n",
            "GA | iter = 60 | Mean = 0.1184184 | Best = 0.1186761\n",
            "GA | iter = 61 | Mean = 0.1184168 | Best = 0.1186761\n",
            "GA | iter = 62 | Mean = 0.1184445 | Best = 0.1186761\n",
            "GA | iter = 63 | Mean = 0.1184557 | Best = 0.1186761\n",
            "GA | iter = 64 | Mean = 0.1185458 | Best = 0.1186761\n",
            "GA | iter = 65 | Mean = 0.1185075 | Best = 0.1186761\n",
            "GA | iter = 66 | Mean = 0.1183329 | Best = 0.1186761\n",
            "GA | iter = 67 | Mean = 0.1184494 | Best = 0.1186761\n",
            "GA | iter = 68 | Mean = 0.1185668 | Best = 0.1186761\n",
            "GA | iter = 69 | Mean = 0.1184295 | Best = 0.1186761\n",
            "GA | iter = 70 | Mean = 0.1185936 | Best = 0.1186761\n",
            "GA | iter = 71 | Mean = 0.1186140 | Best = 0.1186761\n",
            "GA | iter = 72 | Mean = 0.1185868 | Best = 0.1186761\n",
            "GA | iter = 73 | Mean = 0.1182465 | Best = 0.1186761\n",
            "GA | iter = 74 | Mean = 0.1185607 | Best = 0.1186761\n",
            "GA | iter = 75 | Mean = 0.1186155 | Best = 0.1186761\n",
            "GA | iter = 76 | Mean = 0.1186373 | Best = 0.1186761\n",
            "GA | iter = 77 | Mean = 0.1186646 | Best = 0.1186761\n",
            "GA | iter = 78 | Mean = 0.1185006 | Best = 0.1186761\n",
            "GA | iter = 79 | Mean = 0.1185448 | Best = 0.1186761\n",
            "GA | iter = 80 | Mean = 0.1186194 | Best = 0.1186761\n",
            "GA | iter = 81 | Mean = 0.1185469 | Best = 0.1186761\n",
            "GA | iter = 82 | Mean = 0.1184436 | Best = 0.1186761\n",
            "GA | iter = 83 | Mean = 0.1184771 | Best = 0.1186761\n",
            "GA | iter = 84 | Mean = 0.1185239 | Best = 0.1186761\n",
            "GA | iter = 85 | Mean = 0.1183035 | Best = 0.1186761\n",
            "GA | iter = 86 | Mean = 0.1185797 | Best = 0.1186761\n",
            "GA | iter = 87 | Mean = 0.1184582 | Best = 0.1186761\n",
            "GA | iter = 88 | Mean = 0.1184673 | Best = 0.1186761\n",
            "GA | iter = 89 | Mean = 0.1184798 | Best = 0.1186761\n",
            "GA | iter = 90 | Mean = 0.1185626 | Best = 0.1186761\n",
            "GA | iter = 91 | Mean = 0.1186021 | Best = 0.1186761\n",
            "GA | iter = 92 | Mean = 0.1184197 | Best = 0.1186761\n",
            "GA | iter = 93 | Mean = 0.1185970 | Best = 0.1186761\n",
            "GA | iter = 94 | Mean = 0.1186236 | Best = 0.1186761\n",
            "GA | iter = 95 | Mean = 0.1186321 | Best = 0.1186761\n",
            "GA | iter = 96 | Mean = 0.1185294 | Best = 0.1186761\n",
            "GA | iter = 97 | Mean = 0.1185031 | Best = 0.1186761\n",
            "GA | iter = 98 | Mean = 0.1184837 | Best = 0.1186761\n",
            "GA | iter = 99 | Mean = 0.1186094 | Best = 0.1186763\n",
            "GA | iter = 100 | Mean = 0.1185673 | Best = 0.1186763\n",
            "GA | iter = 101 | Mean = 0.1185519 | Best = 0.1186763\n",
            "GA | iter = 102 | Mean = 0.1185775 | Best = 0.1186763\n",
            "GA | iter = 103 | Mean = 0.1181543 | Best = 0.1186763\n",
            "GA | iter = 104 | Mean = 0.1183042 | Best = 0.1186763\n",
            "GA | iter = 105 | Mean = 0.1184160 | Best = 0.1186763\n",
            "GA | iter = 106 | Mean = 0.1182853 | Best = 0.1186777\n",
            "GA | iter = 107 | Mean = 0.1185104 | Best = 0.1186777\n",
            "GA | iter = 108 | Mean = 0.1184730 | Best = 0.1186777\n",
            "GA | iter = 109 | Mean = 0.1183286 | Best = 0.1186777\n",
            "GA | iter = 110 | Mean = 0.1184526 | Best = 0.1186777\n",
            "GA | iter = 111 | Mean = 0.1184880 | Best = 0.1186777\n",
            "GA | iter = 112 | Mean = 0.1184721 | Best = 0.1186777\n",
            "GA | iter = 113 | Mean = 0.1183725 | Best = 0.1186792\n",
            "GA | iter = 114 | Mean = 0.1183195 | Best = 0.1186909\n",
            "GA | iter = 115 | Mean = 0.1185630 | Best = 0.1186909\n",
            "GA | iter = 116 | Mean = 0.1184663 | Best = 0.1186909\n",
            "GA | iter = 117 | Mean = 0.1183409 | Best = 0.1186909\n",
            "GA | iter = 118 | Mean = 0.1185635 | Best = 0.1186909\n",
            "GA | iter = 119 | Mean = 0.1185898 | Best = 0.1188470\n",
            "GA | iter = 120 | Mean = 0.1185676 | Best = 0.1190383\n",
            "GA | iter = 121 | Mean = 0.1186349 | Best = 0.1190755\n",
            "GA | iter = 122 | Mean = 0.1185738 | Best = 0.1190755\n",
            "GA | iter = 123 | Mean = 0.1186060 | Best = 0.1190755\n",
            "GA | iter = 124 | Mean = 0.1186913 | Best = 0.1190755\n",
            "GA | iter = 125 | Mean = 0.1186503 | Best = 0.1190755\n",
            "GA | iter = 126 | Mean = 0.1186149 | Best = 0.1190755\n",
            "GA | iter = 127 | Mean = 0.1187163 | Best = 0.1190755\n",
            "GA | iter = 128 | Mean = 0.1186932 | Best = 0.1190755\n",
            "GA | iter = 129 | Mean = 0.1186261 | Best = 0.1190755\n",
            "GA | iter = 130 | Mean = 0.1187441 | Best = 0.1190755\n",
            "GA | iter = 131 | Mean = 0.1187634 | Best = 0.1190755\n",
            "GA | iter = 132 | Mean = 0.1188646 | Best = 0.1190755\n",
            "GA | iter = 133 | Mean = 0.1189892 | Best = 0.1190755\n",
            "GA | iter = 134 | Mean = 0.1189203 | Best = 0.1190755\n",
            "GA | iter = 135 | Mean = 0.1189338 | Best = 0.1190862\n",
            "GA | iter = 136 | Mean = 0.1186238 | Best = 0.1190862\n",
            "GA | iter = 137 | Mean = 0.1187787 | Best = 0.1190862\n",
            "GA | iter = 138 | Mean = 0.1188466 | Best = 0.1190862\n",
            "GA | iter = 139 | Mean = 0.1189375 | Best = 0.1190869\n",
            "GA | iter = 140 | Mean = 0.1189181 | Best = 0.1190869\n",
            "GA | iter = 141 | Mean = 0.1186987 | Best = 0.1190869\n",
            "GA | iter = 142 | Mean = 0.1189557 | Best = 0.1190869\n",
            "GA | iter = 143 | Mean = 0.1189459 | Best = 0.1190869\n",
            "GA | iter = 144 | Mean = 0.1188117 | Best = 0.1190869\n",
            "GA | iter = 145 | Mean = 0.1188194 | Best = 0.1190869\n",
            "GA | iter = 146 | Mean = 0.1189597 | Best = 0.1190869\n",
            "GA | iter = 147 | Mean = 0.1188705 | Best = 0.1190869\n",
            "GA | iter = 148 | Mean = 0.1188698 | Best = 0.1190869\n",
            "GA | iter = 149 | Mean = 0.1188977 | Best = 0.1190869\n",
            "GA | iter = 150 | Mean = 0.1189777 | Best = 0.1190869\n",
            "GA | iter = 151 | Mean = 0.1189129 | Best = 0.1190869\n",
            "GA | iter = 152 | Mean = 0.1188930 | Best = 0.1190869\n",
            "GA | iter = 153 | Mean = 0.1185837 | Best = 0.1190869\n",
            "GA | iter = 154 | Mean = 0.1188347 | Best = 0.1190920\n",
            "GA | iter = 155 | Mean = 0.1188283 | Best = 0.1190920\n",
            "GA | iter = 156 | Mean = 0.1188787 | Best = 0.1190942\n",
            "GA | iter = 157 | Mean = 0.1186209 | Best = 0.1190942\n",
            "GA | iter = 158 | Mean = 0.1186756 | Best = 0.1190942\n",
            "GA | iter = 159 | Mean = 0.1189749 | Best = 0.1190942\n",
            "GA | iter = 160 | Mean = 0.1186979 | Best = 0.1190942\n",
            "GA | iter = 161 | Mean = 0.1184989 | Best = 0.1190942\n",
            "GA | iter = 162 | Mean = 0.1185612 | Best = 0.1190969\n",
            "GA | iter = 163 | Mean = 0.1189787 | Best = 0.1190969\n",
            "GA | iter = 164 | Mean = 0.1188016 | Best = 0.1190970\n",
            "GA | iter = 165 | Mean = 0.1185662 | Best = 0.1190970\n",
            "GA | iter = 166 | Mean = 0.1187337 | Best = 0.1190970\n",
            "GA | iter = 167 | Mean = 0.1189983 | Best = 0.1190970\n",
            "GA | iter = 168 | Mean = 0.1189746 | Best = 0.1190970\n",
            "GA | iter = 169 | Mean = 0.1188742 | Best = 0.1190970\n",
            "GA | iter = 170 | Mean = 0.1189745 | Best = 0.1190970\n",
            "GA | iter = 171 | Mean = 0.1190471 | Best = 0.1190970\n",
            "GA | iter = 172 | Mean = 0.1189504 | Best = 0.1190970\n",
            "GA | iter = 173 | Mean = 0.119084 | Best = 0.119097\n",
            "GA | iter = 174 | Mean = 0.1189658 | Best = 0.1190970\n",
            "GA | iter = 175 | Mean = 0.1188749 | Best = 0.1190970\n",
            "GA | iter = 176 | Mean = 0.118908 | Best = 0.119097\n",
            "GA | iter = 177 | Mean = 0.1189027 | Best = 0.1190970\n",
            "GA | iter = 178 | Mean = 0.118851 | Best = 0.119097\n",
            "GA | iter = 179 | Mean = 0.1187726 | Best = 0.1190970\n",
            "GA | iter = 180 | Mean = 0.1189304 | Best = 0.1190970\n",
            "GA | iter = 181 | Mean = 0.1187375 | Best = 0.1190970\n",
            "GA | iter = 182 | Mean = 0.1189622 | Best = 0.1190970\n",
            "GA | iter = 183 | Mean = 0.1188264 | Best = 0.1190970\n",
            "GA | iter = 184 | Mean = 0.1189631 | Best = 0.1190970\n",
            "GA | iter = 185 | Mean = 0.1189452 | Best = 0.1190970\n",
            "GA | iter = 186 | Mean = 0.1189115 | Best = 0.1190970\n",
            "GA | iter = 187 | Mean = 0.1188337 | Best = 0.1190970\n",
            "GA | iter = 188 | Mean = 0.1188312 | Best = 0.1190970\n",
            "GA | iter = 189 | Mean = 0.1186233 | Best = 0.1190970\n",
            "GA | iter = 190 | Mean = 0.1188666 | Best = 0.1190970\n",
            "GA | iter = 191 | Mean = 0.1190949 | Best = 0.1190970\n",
            "GA | iter = 192 | Mean = 0.1189433 | Best = 0.1190970\n",
            "GA | iter = 193 | Mean = 0.1188161 | Best = 0.1190970\n",
            "GA | iter = 194 | Mean = 0.1188877 | Best = 0.1190970\n",
            "GA | iter = 195 | Mean = 0.1187422 | Best = 0.1190970\n",
            "GA | iter = 196 | Mean = 0.1190197 | Best = 0.1190970\n",
            "GA | iter = 197 | Mean = 0.1189236 | Best = 0.1190970\n",
            "GA | iter = 198 | Mean = 0.1188192 | Best = 0.1190970\n",
            "GA | iter = 199 | Mean = 0.1189251 | Best = 0.1190970\n",
            "GA | iter = 200 | Mean = 0.1188976 | Best = 0.1190970\n",
            "GA | iter = 201 | Mean = 0.1188647 | Best = 0.1190970\n",
            "GA | iter = 202 | Mean = 0.1188581 | Best = 0.1190970\n",
            "GA | iter = 203 | Mean = 0.1189484 | Best = 0.1190970\n",
            "GA | iter = 204 | Mean = 0.1189463 | Best = 0.1191558\n",
            "GA | iter = 205 | Mean = 0.1189031 | Best = 0.1191558\n",
            "GA | iter = 206 | Mean = 0.1189413 | Best = 0.1191997\n",
            "GA | iter = 207 | Mean = 0.1188259 | Best = 0.1191997\n",
            "GA | iter = 208 | Mean = 0.1187047 | Best = 0.1192592\n",
            "GA | iter = 209 | Mean = 0.1189190 | Best = 0.1192592\n",
            "GA | iter = 210 | Mean = 0.1190376 | Best = 0.1192592\n",
            "GA | iter = 211 | Mean = 0.1190378 | Best = 0.1192592\n",
            "GA | iter = 212 | Mean = 0.1186880 | Best = 0.1192592\n",
            "GA | iter = 213 | Mean = 0.1189481 | Best = 0.1192592\n",
            "GA | iter = 214 | Mean = 0.1188394 | Best = 0.1192592\n",
            "GA | iter = 215 | Mean = 0.1186761 | Best = 0.1192592\n",
            "GA | iter = 216 | Mean = 0.1187720 | Best = 0.1192592\n",
            "GA | iter = 217 | Mean = 0.1187651 | Best = 0.1192592\n",
            "GA | iter = 218 | Mean = 0.1191206 | Best = 0.1192592\n",
            "GA | iter = 219 | Mean = 0.1188053 | Best = 0.1192592\n",
            "GA | iter = 220 | Mean = 0.1190764 | Best = 0.1192592\n",
            "GA | iter = 221 | Mean = 0.1189030 | Best = 0.1192592\n",
            "GA | iter = 222 | Mean = 0.1190919 | Best = 0.1192592\n",
            "GA | iter = 223 | Mean = 0.1191661 | Best = 0.1192592\n",
            "GA | iter = 224 | Mean = 0.1191347 | Best = 0.1192592\n",
            "GA | iter = 225 | Mean = 0.1189489 | Best = 0.1192592\n",
            "GA | iter = 226 | Mean = 0.1191235 | Best = 0.1192592\n",
            "GA | iter = 227 | Mean = 0.1189775 | Best = 0.1192592\n",
            "GA | iter = 228 | Mean = 0.1190242 | Best = 0.1192592\n",
            "GA | iter = 229 | Mean = 0.1189249 | Best = 0.1192592\n",
            "GA | iter = 230 | Mean = 0.1191163 | Best = 0.1192592\n",
            "GA | iter = 231 | Mean = 0.1191722 | Best = 0.1192592\n",
            "GA | iter = 232 | Mean = 0.1191494 | Best = 0.1192592\n",
            "GA | iter = 233 | Mean = 0.1191867 | Best = 0.1192592\n",
            "GA | iter = 234 | Mean = 0.1191821 | Best = 0.1192592\n",
            "GA | iter = 235 | Mean = 0.1191707 | Best = 0.1192592\n",
            "GA | iter = 236 | Mean = 0.1190283 | Best = 0.1192592\n",
            "GA | iter = 237 | Mean = 0.1188242 | Best = 0.1192592\n",
            "GA | iter = 238 | Mean = 0.1189852 | Best = 0.1193060\n",
            "GA | iter = 239 | Mean = 0.1190358 | Best = 0.1193060\n",
            "GA | iter = 240 | Mean = 0.1189974 | Best = 0.1193060\n",
            "GA | iter = 241 | Mean = 0.1191649 | Best = 0.1193060\n",
            "GA | iter = 242 | Mean = 0.1189882 | Best = 0.1193060\n",
            "GA | iter = 243 | Mean = 0.1189074 | Best = 0.1193060\n",
            "GA | iter = 244 | Mean = 0.1186771 | Best = 0.1193060\n",
            "GA | iter = 245 | Mean = 0.1190589 | Best = 0.1193060\n",
            "GA | iter = 246 | Mean = 0.1189049 | Best = 0.1193060\n",
            "GA | iter = 247 | Mean = 0.1190005 | Best = 0.1193060\n",
            "GA | iter = 248 | Mean = 0.1190116 | Best = 0.1193060\n",
            "GA | iter = 249 | Mean = 0.1189678 | Best = 0.1193060\n",
            "GA | iter = 250 | Mean = 0.1187628 | Best = 0.1193060\n",
            "GA | iter = 251 | Mean = 0.1188875 | Best = 0.1193060\n",
            "GA | iter = 252 | Mean = 0.1190169 | Best = 0.1193060\n",
            "GA | iter = 253 | Mean = 0.1190891 | Best = 0.1193060\n",
            "GA | iter = 254 | Mean = 0.1185663 | Best = 0.1193060\n",
            "GA | iter = 255 | Mean = 0.1190942 | Best = 0.1193060\n",
            "GA | iter = 256 | Mean = 0.1191982 | Best = 0.1193060\n",
            "GA | iter = 257 | Mean = 0.1188978 | Best = 0.1193060\n",
            "GA | iter = 258 | Mean = 0.1188071 | Best = 0.1193060\n",
            "GA | iter = 259 | Mean = 0.1191491 | Best = 0.1193060\n",
            "GA | iter = 260 | Mean = 0.1190821 | Best = 0.1193060\n",
            "GA | iter = 261 | Mean = 0.1191155 | Best = 0.1193060\n",
            "GA | iter = 262 | Mean = 0.1190428 | Best = 0.1193060\n",
            "GA | iter = 263 | Mean = 0.1191678 | Best = 0.1193060\n",
            "GA | iter = 264 | Mean = 0.1189446 | Best = 0.1193060\n",
            "GA | iter = 265 | Mean = 0.1191712 | Best = 0.1193060\n",
            "GA | iter = 266 | Mean = 0.1190885 | Best = 0.1193060\n",
            "GA | iter = 267 | Mean = 0.1191859 | Best = 0.1193060\n",
            "GA | iter = 268 | Mean = 0.1191705 | Best = 0.1193060\n",
            "GA | iter = 269 | Mean = 0.1189625 | Best = 0.1193060\n",
            "GA | iter = 270 | Mean = 0.1191849 | Best = 0.1193060\n",
            "GA | iter = 271 | Mean = 0.1192533 | Best = 0.1193060\n",
            "GA | iter = 272 | Mean = 0.118968 | Best = 0.119306\n",
            "GA | iter = 273 | Mean = 0.1191072 | Best = 0.1193060\n",
            "GA | iter = 274 | Mean = 0.1191962 | Best = 0.1193060\n",
            "GA | iter = 275 | Mean = 0.1192523 | Best = 0.1193060\n",
            "GA | iter = 276 | Mean = 0.1190136 | Best = 0.1193060\n",
            "GA | iter = 277 | Mean = 0.119106 | Best = 0.119306\n",
            "GA | iter = 278 | Mean = 0.1188735 | Best = 0.1193060\n",
            "GA | iter = 279 | Mean = 0.1189558 | Best = 0.1193060\n",
            "GA | iter = 280 | Mean = 0.1191469 | Best = 0.1193060\n",
            "GA | iter = 281 | Mean = 0.118969 | Best = 0.119306\n",
            "GA | iter = 282 | Mean = 0.1190814 | Best = 0.1193060\n",
            "GA | iter = 283 | Mean = 0.1191955 | Best = 0.1193060\n",
            "GA | iter = 284 | Mean = 0.1192371 | Best = 0.1193060\n",
            "GA | iter = 285 | Mean = 0.1192846 | Best = 0.1193060\n",
            "GA | iter = 286 | Mean = 0.119121 | Best = 0.119306\n",
            "GA | iter = 287 | Mean = 0.1192227 | Best = 0.1193060\n",
            "GA | iter = 288 | Mean = 0.1191748 | Best = 0.1193060\n",
            "GA | iter = 289 | Mean = 0.1192274 | Best = 0.1193123\n",
            "GA | iter = 290 | Mean = 0.1190228 | Best = 0.1193123\n",
            "GA | iter = 291 | Mean = 0.1190939 | Best = 0.1193123\n",
            "GA | iter = 292 | Mean = 0.1191563 | Best = 0.1193123\n",
            "GA | iter = 293 | Mean = 0.1191310 | Best = 0.1193123\n",
            "GA | iter = 294 | Mean = 0.1192108 | Best = 0.1193123\n",
            "GA | iter = 295 | Mean = 0.1187102 | Best = 0.1193123\n",
            "GA | iter = 296 | Mean = 0.1190471 | Best = 0.1193123\n",
            "GA | iter = 297 | Mean = 0.1189642 | Best = 0.1193123\n",
            "GA | iter = 298 | Mean = 0.1192229 | Best = 0.1193123\n",
            "GA | iter = 299 | Mean = 0.1191506 | Best = 0.1193123\n",
            "GA | iter = 300 | Mean = 0.1191339 | Best = 0.1193123\n",
            "GA | iter = 301 | Mean = 0.1190123 | Best = 0.1193123\n",
            "GA | iter = 302 | Mean = 0.1190202 | Best = 0.1193123\n",
            "GA | iter = 303 | Mean = 0.1191463 | Best = 0.1193123\n",
            "GA | iter = 304 | Mean = 0.1189747 | Best = 0.1193123\n",
            "GA | iter = 305 | Mean = 0.1190200 | Best = 0.1193123\n",
            "GA | iter = 306 | Mean = 0.1192279 | Best = 0.1193123\n",
            "GA | iter = 307 | Mean = 0.1191260 | Best = 0.1193123\n",
            "GA | iter = 308 | Mean = 0.1192149 | Best = 0.1193123\n",
            "GA | iter = 309 | Mean = 0.1191473 | Best = 0.1193123\n",
            "GA | iter = 310 | Mean = 0.1191859 | Best = 0.1193123\n",
            "GA | iter = 311 | Mean = 0.1189323 | Best = 0.1193123\n",
            "GA | iter = 312 | Mean = 0.1191246 | Best = 0.1193123\n",
            "GA | iter = 313 | Mean = 0.1190807 | Best = 0.1193123\n",
            "GA | iter = 314 | Mean = 0.1192226 | Best = 0.1193123\n",
            "GA | iter = 315 | Mean = 0.1192717 | Best = 0.1193123\n",
            "GA | iter = 316 | Mean = 0.1192506 | Best = 0.1193123\n",
            "GA | iter = 317 | Mean = 0.1189195 | Best = 0.1193123\n",
            "GA | iter = 318 | Mean = 0.1191392 | Best = 0.1193123\n",
            "GA | iter = 319 | Mean = 0.1191197 | Best = 0.1193123\n",
            "GA | iter = 320 | Mean = 0.1190456 | Best = 0.1193123\n",
            "GA | iter = 321 | Mean = 0.1190299 | Best = 0.1193123\n",
            "GA | iter = 322 | Mean = 0.1189565 | Best = 0.1193123\n",
            "GA | iter = 323 | Mean = 0.1190362 | Best = 0.1193123\n",
            "GA | iter = 324 | Mean = 0.1191239 | Best = 0.1193123\n",
            "GA | iter = 325 | Mean = 0.1189062 | Best = 0.1193123\n",
            "GA | iter = 326 | Mean = 0.1190178 | Best = 0.1193123\n",
            "GA | iter = 327 | Mean = 0.1191741 | Best = 0.1193123\n",
            "GA | iter = 328 | Mean = 0.1190568 | Best = 0.1193123\n",
            "GA | iter = 329 | Mean = 0.1192032 | Best = 0.1193123\n",
            "GA | iter = 330 | Mean = 0.1191524 | Best = 0.1193123\n",
            "GA | iter = 331 | Mean = 0.1191993 | Best = 0.1193123\n",
            "GA | iter = 332 | Mean = 0.1190988 | Best = 0.1193123\n",
            "GA | iter = 333 | Mean = 0.1188981 | Best = 0.1193123\n",
            "GA | iter = 334 | Mean = 0.1189893 | Best = 0.1193123\n",
            "GA | iter = 335 | Mean = 0.1191502 | Best = 0.1193123\n",
            "GA | iter = 336 | Mean = 0.1191965 | Best = 0.1193123\n",
            "GA | iter = 337 | Mean = 0.1191143 | Best = 0.1193123\n",
            "GA | iter = 338 | Mean = 0.1190397 | Best = 0.1193123\n",
            "GA | iter = 339 | Mean = 0.1188887 | Best = 0.1193123\n",
            "GA | iter = 340 | Mean = 0.1189979 | Best = 0.1193123\n",
            "GA | iter = 341 | Mean = 0.1191546 | Best = 0.1193123\n",
            "GA | iter = 342 | Mean = 0.1191559 | Best = 0.1193123\n",
            "GA | iter = 343 | Mean = 0.1192378 | Best = 0.1193123\n",
            "GA | iter = 344 | Mean = 0.1191930 | Best = 0.1193123\n",
            "GA | iter = 345 | Mean = 0.1191842 | Best = 0.1193123\n",
            "GA | iter = 346 | Mean = 0.1191387 | Best = 0.1193123\n",
            "GA | iter = 347 | Mean = 0.1190760 | Best = 0.1193123\n",
            "GA | iter = 348 | Mean = 0.1191203 | Best = 0.1193123\n",
            "GA | iter = 349 | Mean = 0.1191360 | Best = 0.1193123\n",
            "GA | iter = 350 | Mean = 0.1190345 | Best = 0.1193123\n",
            "GA | iter = 351 | Mean = 0.1191994 | Best = 0.1193123\n",
            "GA | iter = 352 | Mean = 0.1192506 | Best = 0.1193123\n",
            "GA | iter = 353 | Mean = 0.1191041 | Best = 0.1193123\n",
            "GA | iter = 354 | Mean = 0.1190485 | Best = 0.1193123\n",
            "GA | iter = 355 | Mean = 0.1190960 | Best = 0.1193123\n",
            "GA | iter = 356 | Mean = 0.1190550 | Best = 0.1193123\n",
            "GA | iter = 357 | Mean = 0.1191958 | Best = 0.1193123\n",
            "GA | iter = 358 | Mean = 0.1191904 | Best = 0.1193123\n",
            "GA | iter = 359 | Mean = 0.1190085 | Best = 0.1193123\n",
            "GA | iter = 360 | Mean = 0.1189878 | Best = 0.1193123\n",
            "GA | iter = 361 | Mean = 0.1191981 | Best = 0.1193123\n",
            "GA | iter = 362 | Mean = 0.1192303 | Best = 0.1193123\n",
            "GA | iter = 363 | Mean = 0.1190606 | Best = 0.1193123\n",
            "GA | iter = 364 | Mean = 0.1191360 | Best = 0.1193123\n",
            "GA | iter = 365 | Mean = 0.1190747 | Best = 0.1193123\n",
            "GA | iter = 366 | Mean = 0.1192342 | Best = 0.1193123\n",
            "GA | iter = 367 | Mean = 0.1192886 | Best = 0.1193123\n",
            "GA | iter = 368 | Mean = 0.1190311 | Best = 0.1193123\n",
            "GA | iter = 369 | Mean = 0.1191930 | Best = 0.1193128\n",
            "GA | iter = 370 | Mean = 0.1192186 | Best = 0.1193128\n",
            "GA | iter = 371 | Mean = 0.1190069 | Best = 0.1193128\n",
            "GA | iter = 372 | Mean = 0.1191124 | Best = 0.1193128\n",
            "GA | iter = 373 | Mean = 0.1191521 | Best = 0.1193128\n",
            "GA | iter = 374 | Mean = 0.1191999 | Best = 0.1193128\n",
            "GA | iter = 375 | Mean = 0.1190149 | Best = 0.1193128\n",
            "GA | iter = 376 | Mean = 0.1191465 | Best = 0.1193128\n",
            "GA | iter = 377 | Mean = 0.1191705 | Best = 0.1193128\n",
            "GA | iter = 378 | Mean = 0.1191690 | Best = 0.1193128\n",
            "GA | iter = 379 | Mean = 0.1190059 | Best = 0.1193128\n",
            "GA | iter = 380 | Mean = 0.1190336 | Best = 0.1193128\n",
            "GA | iter = 381 | Mean = 0.1190423 | Best = 0.1193128\n",
            "GA | iter = 382 | Mean = 0.1191188 | Best = 0.1193128\n",
            "GA | iter = 383 | Mean = 0.1191037 | Best = 0.1193128\n",
            "GA | iter = 384 | Mean = 0.1191053 | Best = 0.1193128\n",
            "GA | iter = 385 | Mean = 0.1188848 | Best = 0.1193128\n",
            "GA | iter = 386 | Mean = 0.1192280 | Best = 0.1193128\n",
            "GA | iter = 387 | Mean = 0.1192171 | Best = 0.1193128\n",
            "GA | iter = 388 | Mean = 0.1192896 | Best = 0.1193128\n",
            "GA | iter = 389 | Mean = 0.1191620 | Best = 0.1193128\n",
            "GA | iter = 390 | Mean = 0.1190437 | Best = 0.1193128\n",
            "GA | iter = 391 | Mean = 0.1191647 | Best = 0.1193128\n",
            "GA | iter = 392 | Mean = 0.1191739 | Best = 0.1193128\n",
            "GA | iter = 393 | Mean = 0.1188268 | Best = 0.1193128\n",
            "GA | iter = 394 | Mean = 0.1189251 | Best = 0.1193128\n",
            "GA | iter = 395 | Mean = 0.1190358 | Best = 0.1193128\n",
            "GA | iter = 396 | Mean = 0.1192933 | Best = 0.1193134\n",
            "GA | iter = 397 | Mean = 0.1192004 | Best = 0.1193134\n",
            "GA | iter = 398 | Mean = 0.1191772 | Best = 0.1193134\n",
            "GA | iter = 399 | Mean = 0.1192312 | Best = 0.1193134\n",
            "GA | iter = 400 | Mean = 0.1191738 | Best = 0.1193134\n",
            "GA | iter = 401 | Mean = 0.1192347 | Best = 0.1193134\n",
            "GA | iter = 402 | Mean = 0.1189994 | Best = 0.1193134\n",
            "GA | iter = 403 | Mean = 0.1187941 | Best = 0.1193134\n",
            "GA | iter = 404 | Mean = 0.1189266 | Best = 0.1193134\n",
            "GA | iter = 405 | Mean = 0.1190762 | Best = 0.1193134\n",
            "GA | iter = 406 | Mean = 0.1189921 | Best = 0.1193134\n",
            "GA | iter = 407 | Mean = 0.1190630 | Best = 0.1193134\n",
            "GA | iter = 408 | Mean = 0.1191771 | Best = 0.1193134\n",
            "GA | iter = 409 | Mean = 0.1191620 | Best = 0.1193134\n",
            "GA | iter = 410 | Mean = 0.1190465 | Best = 0.1193134\n",
            "GA | iter = 411 | Mean = 0.1192733 | Best = 0.1193134\n",
            "GA | iter = 412 | Mean = 0.1190517 | Best = 0.1193134\n",
            "GA | iter = 413 | Mean = 0.1191426 | Best = 0.1193134\n",
            "GA | iter = 414 | Mean = 0.1190866 | Best = 0.1193134\n",
            "GA | iter = 415 | Mean = 0.1192955 | Best = 0.1193134\n",
            "GA | iter = 416 | Mean = 0.1190881 | Best = 0.1193134\n",
            "GA | iter = 417 | Mean = 0.1191890 | Best = 0.1193134\n",
            "GA | iter = 418 | Mean = 0.1190662 | Best = 0.1193134\n",
            "GA | iter = 419 | Mean = 0.1192591 | Best = 0.1193136\n",
            "GA | iter = 420 | Mean = 0.1190041 | Best = 0.1193136\n",
            "GA | iter = 421 | Mean = 0.1192453 | Best = 0.1193136\n",
            "GA | iter = 422 | Mean = 0.1192551 | Best = 0.1193136\n",
            "GA | iter = 423 | Mean = 0.1189246 | Best = 0.1193136\n",
            "GA | iter = 424 | Mean = 0.1186666 | Best = 0.1193136\n",
            "GA | iter = 425 | Mean = 0.1191376 | Best = 0.1193136\n",
            "GA | iter = 426 | Mean = 0.1189109 | Best = 0.1193136\n",
            "GA | iter = 427 | Mean = 0.1190612 | Best = 0.1193136\n",
            "GA | iter = 428 | Mean = 0.1191605 | Best = 0.1193136\n",
            "GA | iter = 429 | Mean = 0.1190527 | Best = 0.1193136\n",
            "GA | iter = 430 | Mean = 0.1192742 | Best = 0.1193136\n",
            "GA | iter = 431 | Mean = 0.1189033 | Best = 0.1193136\n",
            "GA | iter = 432 | Mean = 0.1189266 | Best = 0.1193136\n",
            "GA | iter = 433 | Mean = 0.1186856 | Best = 0.1193136\n",
            "GA | iter = 434 | Mean = 0.1190782 | Best = 0.1193136\n",
            "GA | iter = 435 | Mean = 0.1192100 | Best = 0.1193136\n",
            "GA | iter = 436 | Mean = 0.1192608 | Best = 0.1193136\n",
            "GA | iter = 437 | Mean = 0.1192548 | Best = 0.1193136\n",
            "GA | iter = 438 | Mean = 0.1191492 | Best = 0.1193136\n",
            "GA | iter = 439 | Mean = 0.1190420 | Best = 0.1193136\n",
            "GA | iter = 440 | Mean = 0.1190832 | Best = 0.1193136\n",
            "GA | iter = 441 | Mean = 0.1191412 | Best = 0.1193136\n",
            "GA | iter = 442 | Mean = 0.1191572 | Best = 0.1193136\n",
            "GA | iter = 443 | Mean = 0.1190958 | Best = 0.1193136\n",
            "GA | iter = 444 | Mean = 0.1189685 | Best = 0.1193136\n",
            "GA | iter = 445 | Mean = 0.1191134 | Best = 0.1193136\n",
            "GA | iter = 446 | Mean = 0.1191690 | Best = 0.1193136\n",
            "GA | iter = 447 | Mean = 0.1190562 | Best = 0.1193136\n",
            "GA | iter = 448 | Mean = 0.1190375 | Best = 0.1193137\n",
            "GA | iter = 449 | Mean = 0.1191896 | Best = 0.1193137\n",
            "GA | iter = 450 | Mean = 0.1192979 | Best = 0.1193137\n",
            "GA | iter = 451 | Mean = 0.1192318 | Best = 0.1193137\n",
            "GA | iter = 452 | Mean = 0.1192398 | Best = 0.1193137\n",
            "GA | iter = 453 | Mean = 0.1190703 | Best = 0.1193137\n",
            "GA | iter = 454 | Mean = 0.1189930 | Best = 0.1193137\n",
            "GA | iter = 455 | Mean = 0.1192610 | Best = 0.1193137\n",
            "GA | iter = 456 | Mean = 0.1191534 | Best = 0.1193137\n",
            "GA | iter = 457 | Mean = 0.1191146 | Best = 0.1193137\n",
            "GA | iter = 458 | Mean = 0.1192010 | Best = 0.1193137\n",
            "GA | iter = 459 | Mean = 0.1191668 | Best = 0.1193137\n",
            "GA | iter = 460 | Mean = 0.1189603 | Best = 0.1193137\n",
            "GA | iter = 461 | Mean = 0.1191933 | Best = 0.1193137\n",
            "GA | iter = 462 | Mean = 0.1190484 | Best = 0.1193137\n",
            "GA | iter = 463 | Mean = 0.1192000 | Best = 0.1193137\n",
            "GA | iter = 464 | Mean = 0.1190504 | Best = 0.1193137\n",
            "GA | iter = 465 | Mean = 0.1191130 | Best = 0.1193137\n",
            "GA | iter = 466 | Mean = 0.1190919 | Best = 0.1193137\n",
            "GA | iter = 467 | Mean = 0.1192036 | Best = 0.1193137\n",
            "GA | iter = 468 | Mean = 0.1191870 | Best = 0.1193137\n",
            "GA | iter = 469 | Mean = 0.1189587 | Best = 0.1193137\n",
            "GA | iter = 470 | Mean = 0.1191963 | Best = 0.1193137\n",
            "GA | iter = 471 | Mean = 0.1192392 | Best = 0.1193137\n",
            "GA | iter = 472 | Mean = 0.1192481 | Best = 0.1193137\n",
            "GA | iter = 473 | Mean = 0.1190705 | Best = 0.1193137\n",
            "GA | iter = 474 | Mean = 0.1191638 | Best = 0.1193138\n",
            "GA | iter = 475 | Mean = 0.1191428 | Best = 0.1193140\n",
            "GA | iter = 476 | Mean = 0.1188354 | Best = 0.1193140\n",
            "GA | iter = 477 | Mean = 0.1189882 | Best = 0.1193140\n",
            "GA | iter = 478 | Mean = 0.1188663 | Best = 0.1193140\n",
            "GA | iter = 479 | Mean = 0.1187312 | Best = 0.1193140\n",
            "GA | iter = 480 | Mean = 0.1189997 | Best = 0.1193140\n",
            "GA | iter = 481 | Mean = 0.1189008 | Best = 0.1193140\n",
            "GA | iter = 482 | Mean = 0.1188866 | Best = 0.1193140\n",
            "GA | iter = 483 | Mean = 0.1191531 | Best = 0.1193140\n",
            "GA | iter = 484 | Mean = 0.1190783 | Best = 0.1193140\n",
            "GA | iter = 485 | Mean = 0.1192457 | Best = 0.1193140\n",
            "GA | iter = 486 | Mean = 0.1191666 | Best = 0.1193140\n",
            "GA | iter = 487 | Mean = 0.1187807 | Best = 0.1193140\n",
            "GA | iter = 488 | Mean = 0.1190987 | Best = 0.1193140\n",
            "GA | iter = 489 | Mean = 0.1190657 | Best = 0.1193140\n",
            "GA | iter = 490 | Mean = 0.1191057 | Best = 0.1193140\n",
            "GA | iter = 491 | Mean = 0.1191151 | Best = 0.1193146\n",
            "GA | iter = 492 | Mean = 0.1188281 | Best = 0.1193146\n",
            "GA | iter = 493 | Mean = 0.1187466 | Best = 0.1193146\n",
            "GA | iter = 494 | Mean = 0.1185414 | Best = 0.1193146\n",
            "GA | iter = 495 | Mean = 0.1187441 | Best = 0.1193146\n",
            "GA | iter = 496 | Mean = 0.1190584 | Best = 0.1193146\n",
            "GA | iter = 497 | Mean = 0.1192057 | Best = 0.1193146\n",
            "GA | iter = 498 | Mean = 0.1191003 | Best = 0.1193146\n",
            "GA | iter = 499 | Mean = 0.1190887 | Best = 0.1193146\n",
            "GA | iter = 500 | Mean = 0.1190761 | Best = 0.1193146\n",
            "── \u001b[1mGenetic Algorithm\u001b[22m ─────────────────── \n",
            "\n",
            "GA settings: \n",
            "Type                  =  real-valued \n",
            "Population size       =  50 \n",
            "Number of generations =  500 \n",
            "Elitism               =  3 \n",
            "Crossover probability =  0.8 \n",
            "Mutation probability  =  0.1 \n",
            "Search domain = \n",
            "      x1 x2 x3 x4 x5 x6 x7 x8 x9 x10\n",
            "lower  0  0  0  0  0  0  0  0  0   0\n",
            "upper  1  1  1  1  1  1  1  1  1   1\n",
            "\n",
            "GA results: \n",
            "Iterations             = 500 \n",
            "Fitness function value = 0.1193146 \n",
            "Solution = \n",
            "              x1        x2          x3        x4          x5           x6\n",
            "[1,] 0.004277721 0.3274032 0.001376539 0.7034452 0.005743667 0.0002702326\n",
            "             x7        x8        x9       x10\n",
            "[1,] 0.01294619 0.9912366 0.1611658 0.7168139\n",
            "\n",
            "Solusi yang diperoleh dengan menggunakan GA adalah:\n",
            "              x1        x2          x3        x4          x5           x6\n",
            "[1,] 0.004277721 0.3274032 0.001376539 0.7034452 0.005743667 0.0002702326\n",
            "             x7        x8        x9       x10\n",
            "[1,] 0.01294619 0.9912366 0.1611658 0.7168139\n",
            "\n",
            "Bobot Portofolio yang Diperoleh:\n",
            "          x1           x2           x3           x4           x5           x6 \n",
            "1.462629e-03 1.119450e-01 4.706634e-04 2.405205e-01 1.963863e-03 9.239734e-05 \n",
            "          x7           x8           x9          x10 \n",
            "4.426533e-03 3.389215e-01 5.510545e-02 2.450915e-01 \n"
          ]
        }
      ]
    },
    {
      "cell_type": "code",
      "source": [
        "best_ticker"
      ],
      "metadata": {
        "colab": {
          "base_uri": "https://localhost:8080/",
          "height": 34
        },
        "id": "sqyyL1i3EC9s",
        "outputId": "5ab51509-c0ea-414f-9b61-658b9a6c7533"
      },
      "execution_count": null,
      "outputs": [
        {
          "output_type": "display_data",
          "data": {
            "text/html": [
              "<style>\n",
              ".list-inline {list-style: none; margin:0; padding: 0}\n",
              ".list-inline>li {display: inline-block}\n",
              ".list-inline>li:not(:last-child)::after {content: \"\\00b7\"; padding: 0 .5ex}\n",
              "</style>\n",
              "<ol class=list-inline><li>'AVB'</li><li>'CPT'</li><li>'EQR'</li><li>'ESS'</li><li>'KIM'</li><li>'MAA'</li><li>'PSA'</li><li>'SPG'</li><li>'UDR'</li><li>'VTR'</li></ol>\n"
            ],
            "text/markdown": "1. 'AVB'\n2. 'CPT'\n3. 'EQR'\n4. 'ESS'\n5. 'KIM'\n6. 'MAA'\n7. 'PSA'\n8. 'SPG'\n9. 'UDR'\n10. 'VTR'\n\n\n",
            "text/latex": "\\begin{enumerate*}\n\\item 'AVB'\n\\item 'CPT'\n\\item 'EQR'\n\\item 'ESS'\n\\item 'KIM'\n\\item 'MAA'\n\\item 'PSA'\n\\item 'SPG'\n\\item 'UDR'\n\\item 'VTR'\n\\end{enumerate*}\n",
            "text/plain": [
              " [1] \"AVB\" \"CPT\" \"EQR\" \"ESS\" \"KIM\" \"MAA\" \"PSA\" \"SPG\" \"UDR\" \"VTR\""
            ]
          },
          "metadata": {}
        }
      ]
    },
    {
      "cell_type": "code",
      "source": [
        "# prompt: BARPLOT wga_normal, add label in each bar descending, add grid\n",
        "\n",
        "# Create a barplot of wga_normal with descending labels and grid\n",
        "barplot(wga_normal,\n",
        "        main = \"Bobot Portofolio Hierarchical-GA\",\n",
        "        xlab = \"Saham\",\n",
        "        ylab = \"Bobot\",\n",
        "        names.arg = best_ticker, # Set stock names as labels\n",
        "        las = 2,  # Rotate x-axis labels vertically\n",
        "        col = \"skyblue\", # Set bar color\n",
        "        ylim = c(0, max(wga_normal) * 1.1)) # Adjust y-axis limit for better label visibility\n",
        "\n",
        "# Add labels on top of each bar\n",
        "text(x = barplot(wga_normal, plot = FALSE), y = wga_normal, label = round(wga_normal, 4), pos = 3, cex = 0.8, col=\"black\")\n",
        "\n",
        "# Add grid lines\n",
        "grid(nx = NA, ny = NULL)"
      ],
      "metadata": {
        "colab": {
          "base_uri": "https://localhost:8080/",
          "height": 437
        },
        "id": "N6UX3XLLEbuu",
        "outputId": "750c8b95-d846-48f0-c997-620f96d03703"
      },
      "execution_count": null,
      "outputs": [
        {
          "output_type": "display_data",
          "data": {
            "text/plain": [
              "Plot with title “Bobot Portofolio Hierarchical-GA”"
            ],
            "image/png": "[encoded data removed]"
          },
          "metadata": {
            "image/png": {
              "width": 420,
              "height": 420
            }
          }
        }
      ]
    },
    {
      "cell_type": "code",
      "source": [
        "wga_normal"
      ],
      "metadata": {
        "colab": {
          "base_uri": "https://localhost:8080/",
          "height": 86
        },
        "id": "xQY87IsMn-kc",
        "outputId": "5414dc02-6182-43ea-c956-c6953587110c"
      },
      "execution_count": null,
      "outputs": [
        {
          "output_type": "display_data",
          "data": {
            "text/html": [
              "<style>\n",
              ".dl-inline {width: auto; margin:0; padding: 0}\n",
              ".dl-inline>dt, .dl-inline>dd {float: none; width: auto; display: inline-block}\n",
              ".dl-inline>dt::after {content: \":\\0020\"; padding-right: .5ex}\n",
              ".dl-inline>dt:not(:first-of-type) {padding-left: .5ex}\n",
              "</style><dl class=dl-inline><dt>x1</dt><dd>0.00146262926514034</dd><dt>x2</dt><dd>0.111945015578212</dd><dt>x3</dt><dd>0.000470663441895037</dd><dt>x4</dt><dd>0.240520487593223</dd><dt>x5</dt><dd>0.00196386254673065</dd><dt>x6</dt><dd>9.23973404789722e-05</dd><dt>x7</dt><dd>0.00442653316776912</dd><dt>x8</dt><dd>0.338921489839683</dd><dt>x9</dt><dd>0.0551054528783422</dd><dt>x10</dt><dd>0.245091468348525</dd></dl>\n"
            ],
            "text/markdown": "x1\n:   0.00146262926514034x2\n:   0.111945015578212x3\n:   0.000470663441895037x4\n:   0.240520487593223x5\n:   0.00196386254673065x6\n:   9.23973404789722e-05x7\n:   0.00442653316776912x8\n:   0.338921489839683x9\n:   0.0551054528783422x10\n:   0.245091468348525\n\n",
            "text/latex": "\\begin{description*}\n\\item[x1] 0.00146262926514034\n\\item[x2] 0.111945015578212\n\\item[x3] 0.000470663441895037\n\\item[x4] 0.240520487593223\n\\item[x5] 0.00196386254673065\n\\item[x6] 9.23973404789722e-05\n\\item[x7] 0.00442653316776912\n\\item[x8] 0.338921489839683\n\\item[x9] 0.0551054528783422\n\\item[x10] 0.245091468348525\n\\end{description*}\n",
            "text/plain": [
              "          x1           x2           x3           x4           x5           x6 \n",
              "1.462629e-03 1.119450e-01 4.706634e-04 2.405205e-01 1.963863e-03 9.239734e-05 \n",
              "          x7           x8           x9          x10 \n",
              "4.426533e-03 3.389215e-01 5.510545e-02 2.450915e-01 "
            ]
          },
          "metadata": {}
        }
      ]
    },
    {
      "cell_type": "code",
      "source": [
        "# prompt: piechart wga_normal\n",
        "\n",
        "pie(wga_normal, labels = best_ticker, main = \"Portfolio Weights\", col = rainbow(length(wga_normal)))"
      ],
      "metadata": {
        "colab": {
          "base_uri": "https://localhost:8080/",
          "height": 437
        },
        "id": "J6bsOpb-FHCG",
        "outputId": "250a2fcc-e6f9-4eee-850f-474b5d37d774"
      },
      "execution_count": null,
      "outputs": [
        {
          "output_type": "display_data",
          "data": {
            "text/plain": [
              "Plot with title “Portfolio Weights”"
            ],
            "image/png": "[encoded data removed]"
          },
          "metadata": {
            "image/png": {
              "width": 420,
              "height": 420
            }
          }
        }
      ]
    },
    {
      "cell_type": "code",
      "source": [
        "weights <- c(0.00146262926514034, 0.111945015578212, 0.000470663441895037, 0.240520487593223, 0.00196386254673065,\n",
        "              9.23973404789722e-05, 0.00442653316776912,0.338921489839683,0.0551054528783422, 0.245091468348525 )"
      ],
      "metadata": {
        "id": "d5dgrf4SD_3r"
      },
      "execution_count": null,
      "outputs": []
    },
    {
      "cell_type": "code",
      "source": [
        "weights"
      ],
      "metadata": {
        "colab": {
          "base_uri": "https://localhost:8080/",
          "height": 69
        },
        "id": "5cV0qrxoEqOe",
        "outputId": "4ff4d116-5fcc-4b6e-8b3d-cbd8ac655aaf"
      },
      "execution_count": null,
      "outputs": [
        {
          "output_type": "display_data",
          "data": {
            "text/html": [
              "<style>\n",
              ".list-inline {list-style: none; margin:0; padding: 0}\n",
              ".list-inline>li {display: inline-block}\n",
              ".list-inline>li:not(:last-child)::after {content: \"\\00b7\"; padding: 0 .5ex}\n",
              "</style>\n",
              "<ol class=list-inline><li>0.00146262926514034</li><li>0.111945015578212</li><li>0.000470663441895037</li><li>0.240520487593223</li><li>0.00196386254673065</li><li>9.23973404789722e-05</li><li>0.00442653316776912</li><li>0.338921489839683</li><li>0.0551054528783422</li><li>0.245091468348525</li></ol>\n"
            ],
            "text/markdown": "1. 0.00146262926514034\n2. 0.111945015578212\n3. 0.000470663441895037\n4. 0.240520487593223\n5. 0.00196386254673065\n6. 9.23973404789722e-05\n7. 0.00442653316776912\n8. 0.338921489839683\n9. 0.0551054528783422\n10. 0.245091468348525\n\n\n",
            "text/latex": "\\begin{enumerate*}\n\\item 0.00146262926514034\n\\item 0.111945015578212\n\\item 0.000470663441895037\n\\item 0.240520487593223\n\\item 0.00196386254673065\n\\item 9.23973404789722e-05\n\\item 0.00442653316776912\n\\item 0.338921489839683\n\\item 0.0551054528783422\n\\item 0.245091468348525\n\\end{enumerate*}\n",
            "text/plain": [
              " [1] 1.462629e-03 1.119450e-01 4.706634e-04 2.405205e-01 1.963863e-03\n",
              " [6] 9.239734e-05 4.426533e-03 3.389215e-01 5.510545e-02 2.450915e-01"
            ]
          },
          "metadata": {}
        }
      ]
    },
    {
      "cell_type": "code",
      "source": [
        "# Return portofolio (menggunakan bobot yang sudah dihitung)\n",
        "port_return <- sum(weights * colMeans(data_saham_subset))  # R_p\n",
        "\n",
        "# Volatilitas portofolio (menggunakan bobot dan matriks kovarians)\n",
        "port_volatility <- sqrt(t(weights) %*% cov_matrix %*% weights)  # sigma_p\n",
        "\n",
        "# Risk-free rate per hari (misalnya 0.0475/365 untuk tahunan 4.75%)\n",
        "Rf <- 0.06 / 365\n",
        "\n",
        "# Sharpe Ratio\n",
        "sharpe_ratio <- (port_return - Rf) / port_volatility\n",
        "\n",
        "# Output hasil Sharpe Ratio\n",
        "cat(\"Sharpe Ratio: \", sharpe_ratio, \"\\n\")"
      ],
      "metadata": {
        "colab": {
          "base_uri": "https://localhost:8080/"
        },
        "id": "jS4j2HVKExFQ",
        "outputId": "938498d2-7a13-4fd1-aa11-c3b5ef0e7f63"
      },
      "execution_count": null,
      "outputs": [
        {
          "output_type": "stream",
          "name": "stdout",
          "text": [
            "Sharpe Ratio:  0.109562 \n"
          ]
        }
      ]
    }
  ]
}